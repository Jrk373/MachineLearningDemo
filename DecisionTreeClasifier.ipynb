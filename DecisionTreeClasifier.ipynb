{
  "nbformat": 4,
  "nbformat_minor": 0,
  "metadata": {
    "colab": {
      "provenance": [],
      "toc_visible": true,
      "authorship_tag": "ABX9TyNr6YNG4MyZ9eJa8SS2nDJ/",
      "include_colab_link": true
    },
    "kernelspec": {
      "name": "python3",
      "display_name": "Python 3"
    },
    "language_info": {
      "name": "python"
    }
  },
  "cells": [
    {
      "cell_type": "markdown",
      "metadata": {
        "id": "view-in-github",
        "colab_type": "text"
      },
      "source": [
        "<a href=\"https://colab.research.google.com/github/Jrk373/MachineLearningDemo/blob/main/DecisionTreeClasifier.ipynb\" target=\"_parent\"><img src=\"https://colab.research.google.com/assets/colab-badge.svg\" alt=\"Open In Colab\"/></a>"
      ]
    },
    {
      "cell_type": "markdown",
      "source": [
        "# Regeression Tree from start to finish"
      ],
      "metadata": {
        "id": "cbsa-zCUKlb8"
      }
    },
    {
      "cell_type": "code",
      "execution_count": 172,
      "metadata": {
        "id": "YktsSoEqJz6H"
      },
      "outputs": [],
      "source": [
        "import pandas as pd  # to load and manipulate data and for One-Hot Encoding\n",
        "import numpy as np  # to calculate the mean and standard deviation\n",
        "import matplotlib.pyplot as plt  # to draw graphs\n",
        "from sklearn.tree import DecisionTreeClassifier  # to build a classification tree\n",
        "from sklearn.tree import plot_tree  # to draw a classification tree\n",
        "from sklearn.model_selection import train_test_split  # to split data into training and testing sets\n",
        "from sklearn.model_selection import cross_val_score  # for cross validation\n",
        "from sklearn.metrics import ConfusionMatrixDisplay  # creates and draws a confusion matrix\n"
      ]
    },
    {
      "cell_type": "code",
      "source": [
        "import urllib.request\n",
        "\n",
        "# Corrected URL with raw content\n",
        "url = 'https://raw.githubusercontent.com/Jrk373/MachineLearningDemo/main/watson_healthcare_modified.csv'\n",
        "file_path = 'watson_healthcare_modified.csv'\n",
        "\n",
        "# Download the file\n",
        "urllib.request.urlretrieve(url, file_path)\n",
        "\n",
        "# Load the dataset\n",
        "try:\n",
        "    df = pd.read_csv(file_path)\n",
        "    print('Successfully downloaded', file_path)\n",
        "    print('Data successfully loaded as data frame \"df\"')\n",
        "except pd.errors.ParserError as e:\n",
        "    print(\"ParserError encountered:\", e)\n",
        "    print(\"Attempting to load with alternative options...\")\n",
        "    df = pd.read_csv(file_path, delimiter=',', error_bad_lines=False)\n",
        "    print(\"Data loaded with error handling.\")\n"
      ],
      "metadata": {
        "collapsed": true,
        "id": "ZJAMAAG7pHgH",
        "outputId": "4dfa0913-fe37-4533-9e9c-6c2dae803fda",
        "colab": {
          "base_uri": "https://localhost:8080/"
        }
      },
      "execution_count": 173,
      "outputs": [
        {
          "output_type": "stream",
          "name": "stdout",
          "text": [
            "Successfully downloaded watson_healthcare_modified.csv\n",
            "Data successfully loaded as data frame \"df\"\n"
          ]
        }
      ]
    },
    {
      "cell_type": "markdown",
      "metadata": {
        "id": "LYEj5WMNAhLv"
      },
      "source": [
        "Assessing the shape of data helps identify its dimensionality (rows and columns), which is crucial for understanding its structure and determining suitable analysis techniques. It ensures the dataset is in the expected format, enabling error detection and proper preprocessing. Additionally, knowing the data shape aids in resource optimization and selecting the right tools for analysis."
      ]
    },
    {
      "cell_type": "code",
      "execution_count": 174,
      "metadata": {
        "colab": {
          "base_uri": "https://localhost:8080/"
        },
        "id": "3oi96O3mNtjE",
        "outputId": "999bf776-8f5f-47d7-dd8d-2045514edae5"
      },
      "outputs": [
        {
          "output_type": "stream",
          "name": "stdout",
          "text": [
            "Data set rows and columns: (1676, 35)\n"
          ]
        }
      ],
      "source": [
        "# Import necessary packages\n",
        "import pandas as pd\n",
        "\n",
        "# Check the shape (rows, columns)\n",
        "print('Data set rows and columns:', df.shape)"
      ]
    },
    {
      "cell_type": "code",
      "execution_count": 175,
      "metadata": {
        "colab": {
          "base_uri": "https://localhost:8080/"
        },
        "id": "vfD_c-zZOI3j",
        "outputId": "9eefaa3b-3baa-40a8-c7dc-5f8eee48d876"
      },
      "outputs": [
        {
          "output_type": "stream",
          "name": "stdout",
          "text": [
            "   EmployeeID  Age Attrition     BusinessTravel  DailyRate  Department  \\\n",
            "0     1313919   41        No      Travel_Rarely       1102  Cardiology   \n",
            "1     1200302   49        No  Travel_Frequently        279   Maternity   \n",
            "2     1060315   37       Yes      Travel_Rarely       1373   Maternity   \n",
            "3     1272912   33        No  Travel_Frequently       1392   Maternity   \n",
            "4     1414939   27        No      Travel_Rarely        591   Maternity   \n",
            "\n",
            "   DistanceFromHome  Education EducationField  EmployeeCount  ...  \\\n",
            "0                 1          2  Life Sciences              1  ...   \n",
            "1                 8          1  Life Sciences              1  ...   \n",
            "2                 2          2          Other              1  ...   \n",
            "3                 3          4  Life Sciences              1  ...   \n",
            "4                 2          1        Medical              1  ...   \n",
            "\n",
            "   RelationshipSatisfaction StandardHours  Shift  TotalWorkingYears  \\\n",
            "0                         1            80      0                  8   \n",
            "1                         4            80      1                 10   \n",
            "2                         2            80      0                  7   \n",
            "3                         3            80      0                  8   \n",
            "4                         4            80      1                  6   \n",
            "\n",
            "   TrainingTimesLastYear WorkLifeBalance  YearsAtCompany YearsInCurrentRole  \\\n",
            "0                      0               1               6                  4   \n",
            "1                      3               3              10                  7   \n",
            "2                      3               3               0                  0   \n",
            "3                      3               3               8                  7   \n",
            "4                      3               3               2                  2   \n",
            "\n",
            "   YearsSinceLastPromotion  YearsWithCurrManager  \n",
            "0                        0                     5  \n",
            "1                        1                     7  \n",
            "2                        0                     0  \n",
            "3                        3                     0  \n",
            "4                        2                     2  \n",
            "\n",
            "[5 rows x 35 columns]\n"
          ]
        }
      ],
      "source": [
        "# Import necessary packages\n",
        "import pandas as pd\n",
        "\n",
        "# Print off the first 5 rows\n",
        "print(df.head(5))"
      ]
    },
    {
      "cell_type": "markdown",
      "source": [
        "## Data Wrangling"
      ],
      "metadata": {
        "id": "_DwjAvi6uWHt"
      }
    },
    {
      "cell_type": "markdown",
      "source": [
        "### Drop unnecessary columns"
      ],
      "metadata": {
        "id": "GSUAHFmYua60"
      }
    },
    {
      "cell_type": "code",
      "execution_count": 176,
      "metadata": {
        "id": "9b86a5e5"
      },
      "outputs": [],
      "source": [
        "# Columns to drop\n",
        "columns_to_drop = ['EmployeeID',\n",
        "                   'StandardHours',\n",
        "                   'Over18',\n",
        "                   'MonthlyRate',\n",
        "                   'EmployeeCount']\n",
        "\n",
        "# Drop those Columns like they're hot\n",
        "df = df.drop(columns = columns_to_drop)"
      ]
    },
    {
      "cell_type": "code",
      "source": [
        "# Deal with NA values\n",
        "## Identify Variable with NaN values\n",
        "def find_columns_with_nan(df):\n",
        "    columns_with_nan = [col for col in df.columns if df[col].isna().any()]\n",
        "    return columns_with_nan\n",
        "\n",
        "### Identify Variable with NaN values\n",
        "columns_with_nan = find_columns_with_nan(df)\n",
        "\n",
        "if columns_with_nan:\n",
        "    print(\"Columns with NaN values:\", columns_with_nan)\n",
        "else:\n",
        "    print(\"There are no NaN values in the dataset.\")"
      ],
      "metadata": {
        "id": "sUhlBb1EtxYG",
        "outputId": "9c5ced3e-ec77-400a-8d22-61af4b092787",
        "colab": {
          "base_uri": "https://localhost:8080/"
        }
      },
      "execution_count": 177,
      "outputs": [
        {
          "output_type": "stream",
          "name": "stdout",
          "text": [
            "There are no NaN values in the dataset.\n"
          ]
        }
      ]
    },
    {
      "cell_type": "code",
      "execution_count": 178,
      "metadata": {
        "colab": {
          "base_uri": "https://localhost:8080/"
        },
        "id": "j5DphqfwN7JT",
        "outputId": "72ff23e4-d3b7-4bc7-954a-d32bae6d6476"
      },
      "outputs": [
        {
          "output_type": "stream",
          "name": "stdout",
          "text": [
            "Feature Information:\n",
            "<class 'pandas.core.frame.DataFrame'>\n",
            "RangeIndex: 1676 entries, 0 to 1675\n",
            "Data columns (total 30 columns):\n",
            " #   Column                    Non-Null Count  Dtype \n",
            "---  ------                    --------------  ----- \n",
            " 0   Age                       1676 non-null   int64 \n",
            " 1   Attrition                 1676 non-null   object\n",
            " 2   BusinessTravel            1676 non-null   object\n",
            " 3   DailyRate                 1676 non-null   int64 \n",
            " 4   Department                1676 non-null   object\n",
            " 5   DistanceFromHome          1676 non-null   int64 \n",
            " 6   Education                 1676 non-null   int64 \n",
            " 7   EducationField            1676 non-null   object\n",
            " 8   EnvironmentSatisfaction   1676 non-null   int64 \n",
            " 9   Gender                    1676 non-null   object\n",
            " 10  HourlyRate                1676 non-null   int64 \n",
            " 11  JobInvolvement            1676 non-null   int64 \n",
            " 12  JobLevel                  1676 non-null   int64 \n",
            " 13  JobRole                   1676 non-null   object\n",
            " 14  JobSatisfaction           1676 non-null   int64 \n",
            " 15  MaritalStatus             1676 non-null   object\n",
            " 16  MonthlyIncome             1676 non-null   int64 \n",
            " 17  NumCompaniesWorked        1676 non-null   int64 \n",
            " 18  OverTime                  1676 non-null   object\n",
            " 19  PercentSalaryHike         1676 non-null   int64 \n",
            " 20  PerformanceRating         1676 non-null   int64 \n",
            " 21  RelationshipSatisfaction  1676 non-null   int64 \n",
            " 22  Shift                     1676 non-null   int64 \n",
            " 23  TotalWorkingYears         1676 non-null   int64 \n",
            " 24  TrainingTimesLastYear     1676 non-null   int64 \n",
            " 25  WorkLifeBalance           1676 non-null   int64 \n",
            " 26  YearsAtCompany            1676 non-null   int64 \n",
            " 27  YearsInCurrentRole        1676 non-null   int64 \n",
            " 28  YearsSinceLastPromotion   1676 non-null   int64 \n",
            " 29  YearsWithCurrManager      1676 non-null   int64 \n",
            "dtypes: int64(22), object(8)\n",
            "memory usage: 392.9+ KB\n",
            "None\n"
          ]
        }
      ],
      "source": [
        "# Import necessary packages\n",
        "import pandas as pd\n",
        "\n",
        "# Lets get more basic information on columns, datatypes etc using .info()\n",
        "print('Feature Information:')\n",
        "print(df.info())"
      ]
    },
    {
      "cell_type": "code",
      "execution_count": 179,
      "metadata": {
        "colab": {
          "base_uri": "https://localhost:8080/"
        },
        "id": "XnHtB2z7Ul2n",
        "outputId": "232209ad-cdba-4f2d-8437-5641f66d87bd"
      },
      "outputs": [
        {
          "output_type": "stream",
          "name": "stdout",
          "text": [
            "There are no missing values in the dataset.\n"
          ]
        }
      ],
      "source": [
        "# Identifying missing values in the dataset\n",
        "missing_values = df.isnull().sum().sort_values(ascending=False)\n",
        "missing_values = missing_values[missing_values > 0]  # Filter out columns with no missing values\n",
        "\n",
        "if missing_values.empty:\n",
        "    print(\"There are no missing values in the dataset.\")\n",
        "else:\n",
        "    print(\"Missing values by column:\")\n",
        "    print(missing_values)\n",
        "\n",
        "# Replacing missing values\n",
        "    for column in df.columns:\n",
        "        if df[column].isnull().any():  # Check if the column has missing values\n",
        "            if df[column].dtype == 'object':  # For object (categorical) columns\n",
        "                mode_value = df[column].mode()[0]\n",
        "                df[column].fillna(mode_value, inplace=True)\n",
        "                print(f\"Missing values in column '{column}' replaced with mode: {mode_value}\")\n",
        "            elif df[column].dtype in ['float64', 'int64']:  # For numeric columns\n",
        "                mean_value = df[column].mean()\n",
        "                df[column].fillna(mean_value, inplace=True)\n",
        "                print(f\"Missing values in column '{column}' replaced with mean: {mean_value:.2f}\")\n"
      ]
    },
    {
      "cell_type": "code",
      "execution_count": 181,
      "metadata": {
        "id": "eVF_azAFJz6M",
        "colab": {
          "base_uri": "https://localhost:8080/"
        },
        "outputId": "7d6a78d9-f8b2-4161-9abf-148da7a810b3"
      },
      "outputs": [
        {
          "output_type": "stream",
          "name": "stdout",
          "text": [
            "Shape of X: (1676, 29)\n",
            "Shape of y: (1676,)\n"
          ]
        }
      ],
      "source": [
        "# Split data to Target and Feature\n",
        "Target = 'Attrition'\n",
        "\n",
        "# Make a new copy of the columns used to make predictions\n",
        "X = df.drop(Target, axis=1).copy()  # Alternatively: X = df_no_missing.iloc[:, :-1]\n",
        "\n",
        "# Make a new copy of the column of data we want to predict\n",
        "y = df[Target].copy()\n",
        "\n",
        "# Check the shape of X and y\n",
        "print(f\"Shape of X: {X.shape}\")\n",
        "print(f\"Shape of y: {y.shape}\")\n",
        "\n",
        "# If the number of samples is different, raise an error\n",
        "if X.shape[0] != y.shape[0]:  # Use 'X' instead of 'x'\n",
        "    raise ValueError(\"X and y must have the same number of samples.\")\n"
      ]
    },
    {
      "cell_type": "code",
      "execution_count": 182,
      "metadata": {
        "id": "HtNRi3dcXKhh",
        "colab": {
          "base_uri": "https://localhost:8080/"
        },
        "outputId": "a9528e6b-7311-4df9-ca66-dc3446748071"
      },
      "outputs": [
        {
          "output_type": "stream",
          "name": "stdout",
          "text": [
            "Shape before encoding: (1676, 29)\n",
            "Unique values in categorical columns before one-hot encoding:\n",
            "BusinessTravel: ['Travel_Rarely' 'Travel_Frequently' 'Non-Travel']\n",
            "Department: ['Cardiology' 'Maternity' 'Neurology']\n",
            "EducationField: ['Life Sciences' 'Other' 'Medical' 'Marketing' 'Technical Degree'\n",
            " 'Human Resources']\n",
            "Gender: ['Female' 'Male']\n",
            "JobRole: ['Nurse' 'Other' 'Therapist' 'Administrative' 'Admin']\n",
            "MaritalStatus: ['Single' 'Married' 'Divorced']\n",
            "OverTime: ['Yes' 'No']\n"
          ]
        }
      ],
      "source": [
        "# Import necessary packages\n",
        "import pandas as pd\n",
        "import numpy as np\n",
        "\n",
        "# Identify categorical columns - assuming they are of type 'object'\n",
        "categorical_columns = X.select_dtypes(include=['object']).columns\n",
        "\n",
        "## Print the shape to see how many new columns we have before updating\n",
        "print(f\"Shape before encoding: {X.shape}\")\n",
        "\n",
        "# Print unique values for each categorical column before encoding\n",
        "print(\"Unique values in categorical columns before one-hot encoding:\")\n",
        "for column in categorical_columns:\n",
        "    print(f\"{column}: {df[column].unique()}\")"
      ]
    },
    {
      "cell_type": "code",
      "execution_count": 183,
      "metadata": {
        "id": "GYlrzy5rY_9A"
      },
      "outputs": [],
      "source": [
        "# Import necessary packages\n",
        "import pandas as pd\n",
        "import numpy as np\n",
        "\n",
        "# Apply one-hot encoding to all categorical variables\n",
        "df_encoded = pd.get_dummies(X)"
      ]
    },
    {
      "cell_type": "markdown",
      "source": [
        "##### One-hot encoded data set"
      ],
      "metadata": {
        "id": "-6lu1nCRlXK5"
      }
    },
    {
      "cell_type": "code",
      "execution_count": 184,
      "metadata": {
        "collapsed": true,
        "id": "1tqfLu2lZPFw",
        "colab": {
          "base_uri": "https://localhost:8080/"
        },
        "outputId": "88b2409d-6fcc-4995-db35-09ecebaa1ba5"
      },
      "outputs": [
        {
          "output_type": "stream",
          "name": "stdout",
          "text": [
            "Shape after encoding: (1676, 46)\n",
            "\n",
            "Unique values in one-hot encoded columns:\n",
            "BusinessTravel_Non-Travel: [False  True]\n",
            "BusinessTravel_Travel_Frequently: [False  True]\n",
            "BusinessTravel_Travel_Rarely: [ True False]\n",
            "Department_Cardiology: [ True False]\n",
            "Department_Maternity: [False  True]\n",
            "Department_Neurology: [False  True]\n",
            "EducationField_Human Resources: [False  True]\n",
            "EducationField_Life Sciences: [ True False]\n",
            "EducationField_Marketing: [False  True]\n",
            "EducationField_Medical: [False  True]\n",
            "EducationField_Other: [False  True]\n",
            "EducationField_Technical Degree: [False  True]\n",
            "Gender_Female: [ True False]\n",
            "Gender_Male: [False  True]\n",
            "JobRole_Admin: [False  True]\n",
            "JobRole_Administrative: [False  True]\n",
            "JobRole_Nurse: [ True False]\n",
            "JobRole_Other: [False  True]\n",
            "JobRole_Therapist: [False  True]\n",
            "MaritalStatus_Divorced: [False  True]\n",
            "MaritalStatus_Married: [False  True]\n",
            "MaritalStatus_Single: [ True False]\n",
            "OverTime_No: [False  True]\n",
            "OverTime_Yes: [ True False]\n"
          ]
        }
      ],
      "source": [
        "# Import necessary packages\n",
        "import pandas as pd\n",
        "import numpy as np\n",
        "\n",
        "## Print the shape to see how many new columns were added\n",
        "print(f\"Shape after encoding: {df_encoded.shape}\")\n",
        "\n",
        "# Identify new one-hot encoded columns\n",
        "new_columns = [col for col in df_encoded.columns if col not in df.columns]\n",
        "\n",
        "# Print unique values in the new one-hot encoded columns (they should only be 0 or 1)\n",
        "print(\"\\nUnique values in one-hot encoded columns:\")\n",
        "for column in new_columns:\n",
        "    print(f\"{column}: {df_encoded[column].unique()}\")"
      ]
    },
    {
      "cell_type": "code",
      "source": [
        "# Count of each data type, including 0 counts\n",
        "data_type_counts = {dtype: (df_encoded.dtypes == dtype).sum() for dtype in [\"bool\", \"category\", \"datetime64[ns]\", \"float64\", \"int64\", \"object\", \"str\"]}\n",
        "data_type_counts = {k: v for k, v in sorted(data_type_counts.items())}  # Sort for clarity\n",
        "\n",
        "# Print the data type counts\n",
        "print(\"Data type counts (including 0 values):\")\n",
        "for dtype, count in data_type_counts.items():\n",
        "    print(f\"{dtype}: {count}\")"
      ],
      "metadata": {
        "colab": {
          "base_uri": "https://localhost:8080/"
        },
        "id": "CKTLjV7jxuwg",
        "outputId": "1e7158bc-8839-4ec4-94cc-5fc3f439ec81"
      },
      "execution_count": 185,
      "outputs": [
        {
          "output_type": "stream",
          "name": "stdout",
          "text": [
            "Data type counts (including 0 values):\n",
            "bool: 24\n",
            "category: 0\n",
            "datetime64[ns]: 0\n",
            "float64: 0\n",
            "int64: 22\n",
            "object: 0\n",
            "str: 0\n"
          ]
        }
      ]
    },
    {
      "cell_type": "code",
      "source": [
        "\n",
        "# Check for boolean columns and convert them to integers\n",
        "bool_columns = df_encoded.select_dtypes(include=[\"bool\"]).columns\n",
        "for col in bool_columns:\n",
        "    df_encoded[col] = df_encoded[col].astype(int)\n",
        "\n",
        "# Check for object columns in the DataFrame\n",
        "object_columns = df_encoded.select_dtypes(include=[\"object\"]).columns\n",
        "\n",
        "# Convert object columns to integers using Label Encoding\n",
        "for col in object_columns:\n",
        "    df_encoded[col] = df_encoded[col].astype(\"category\").cat.codes\n",
        "\n",
        "# Count of each data type, including 0 counts\n",
        "data_type_counts = {dtype: (df_encoded.dtypes == dtype).sum() for dtype in [\"bool\", \"category\", \"datetime64[ns]\", \"float64\", \"int64\", \"object\"]}\n",
        "data_type_counts = {k: v for k, v in sorted(data_type_counts.items())}  # Sort for clarity\n",
        "\n",
        "# Print the data type counts\n",
        "print(\"Data type counts (including 0 values):\")\n",
        "for dtype, count in data_type_counts.items():\n",
        "    print(f\"{dtype}: {count}\")\n"
      ],
      "metadata": {
        "colab": {
          "base_uri": "https://localhost:8080/"
        },
        "id": "IsjwNP3zrU0y",
        "outputId": "de37659a-a353-4d7a-9e9f-982b9cd4f246"
      },
      "execution_count": 186,
      "outputs": [
        {
          "output_type": "stream",
          "name": "stdout",
          "text": [
            "Data type counts (including 0 values):\n",
            "bool: 0\n",
            "category: 0\n",
            "datetime64[ns]: 0\n",
            "float64: 0\n",
            "int64: 46\n",
            "object: 0\n"
          ]
        }
      ]
    },
    {
      "cell_type": "code",
      "source": [
        "X = df_encoded\n",
        "\n",
        "for col in df_encoded.columns:\n",
        "    print(f\"{col}: {X[col].unique()}\")"
      ],
      "metadata": {
        "colab": {
          "base_uri": "https://localhost:8080/"
        },
        "id": "XK2_Fzm6y4ne",
        "outputId": "4aa81884-d324-4632-f120-ac4c1ffe07d7"
      },
      "execution_count": 190,
      "outputs": [
        {
          "output_type": "stream",
          "name": "stdout",
          "text": [
            "Age: [41 49 37 33 27 32 59 30 38 36 35 29 31 34 28 22 53 24 21 42 44 46 39 43\n",
            " 50 26 48 55 45 56 23 51 40 54 58 20 25 19 57 52 47 18 60]\n",
            "DailyRate: [1102  279 1373 1392  591 1005 1324 1358  216 1299  809  153  670 1346\n",
            "  103 1389  334 1123 1219  371  673 1218  419  391  699 1282 1125  691\n",
            "  477  705  924 1459  125  895  813 1273  869  890  852 1141  464 1240\n",
            " 1357  994  721 1360 1065  408 1211 1229  626 1434 1488 1097 1443  515\n",
            "  853 1142  655 1115  427  653  989 1435 1223  836 1195 1339  664  318\n",
            " 1225 1328 1082  548  132  746  776  193  397  945 1214  111  573 1153\n",
            " 1400  541  432  288  669  530  632 1334  638 1093 1217 1353  120  682\n",
            "  489  807  827  871  665 1040 1420  240 1280  534 1456  658  142 1127\n",
            " 1031 1189 1354 1467  922  394 1312  750  441  684  249  841  147  528\n",
            "  594  470  957  542  802 1355 1150 1329  959 1033 1316  364  438  689\n",
            "  201 1427  857  933 1181 1395  662 1436  194  967 1496 1169 1145  630\n",
            "  303 1256  440 1450 1452  465  702 1157  602 1480 1268  713  134  526\n",
            " 1380  140  629 1356  328 1084  931  692 1069  313  894  556 1344  290\n",
            "  138  926 1261  472 1002  878  905 1180  121 1136  635 1151  644 1045\n",
            "  829 1242 1469  896  992 1052 1147 1396  663  119  979  319 1413  944\n",
            " 1323  532  818  854 1034  771 1401 1431  976 1411 1300  252 1327  832\n",
            " 1017 1199  504  505  916 1247  685  269 1416  833  307 1311  128  488\n",
            "  529 1210 1463  675 1385 1403  452  666 1158  228  996  728 1315  322\n",
            " 1479  797 1070  442  496 1372  920  688 1449 1117  636  506  444  950\n",
            "  889  555  230 1232  566 1302  812 1476  218 1132 1105  906  849  390\n",
            "  106 1249  192  553  117  185 1091  723 1220  588 1377 1018 1275  798\n",
            "  672 1162  508 1482  559  210  928 1001  549 1124  738  570 1130 1192\n",
            "  343  144 1296 1309  483  810  544 1062 1319  641 1332  756  845  593\n",
            " 1171  350  921 1144  143 1046  575  156 1283  755  304 1178  329 1362\n",
            " 1371  202  253  164 1107  759 1305  982  821 1381  480 1473  891 1063\n",
            "  645 1490  317  422 1485 1368 1448  296 1398 1349  986 1099 1116 1499\n",
            "  983 1009 1303 1274 1277  587  413 1276  988 1474  163  267  619  302\n",
            "  443  828  561  426  232 1306 1094  509  775  195  258  471  799  956\n",
            "  535 1495  446 1245  703  823 1246  622 1287  448  254 1365  538  525\n",
            "  558  782  362 1236 1112  204 1343  604 1216  646  160  238 1397  306\n",
            "  991  482 1176  913 1076  727  885  243  806  817 1410 1207 1442  693\n",
            "  929  562  608  580  970 1179  294  314  316  654  168  381  217  501\n",
            "  650  141  804  975 1090  346  430  268  167  621  527  883  954  310\n",
            "  719  725  715  657 1146  182  376  571  384  791 1111 1243 1092 1325\n",
            "  805  213  118  676 1252  286 1258  932 1041  859  720  946 1184  436\n",
            "  589  760  887 1318  625  180  586 1012  661  930  342 1230 1271 1278\n",
            "  607  130  300  583 1418 1269  379  395 1265 1222  341  868 1231  102\n",
            "  881 1383 1075  374 1086  781  177  500 1425 1454  617 1085  995 1122\n",
            "  618  546  462 1198 1272  154 1137 1188  188 1333  867  263  938  129\n",
            "  616  498 1404 1053  289 1376  231  152  882  903 1379  335  722  461\n",
            "  974 1126  840 1134  248  955  939 1391 1206  287 1441  109 1066  277\n",
            " 1055  265  135  247 1035  266  145 1038 1234 1109 1089  788  124  660\n",
            " 1186 1464  796  415  769 1003 1366  330 1492 1204  309 1330  469  697\n",
            " 1262 1050  770  406  203 1308  984  439  793 1451 1182  174  490  718\n",
            "  433  773  603  874  367  199  481  647 1384  902  819  862 1457  977\n",
            "  942 1402 1421 1361  917  200  150  179  696  116  363  107 1465  458\n",
            " 1212 1103  966 1010  326 1098  969 1167  694 1320  536  373  599  251\n",
            "  131  237 1429  648  735  531  429  968  879  640  412  848  360 1138\n",
            "  325 1322  299 1030  634  524  256 1060  935  495  282  206  943  523\n",
            "  507  601  855 1291 1405 1369  999 1202  285  404  736 1498 1200 1439\n",
            "  499  205  683 1462  949  652  332 1475  337  971 1174  667  560  172\n",
            "  383 1255  359  401  377  592 1445 1221  866  981  447 1326  748  990\n",
            "  405  115  790  830 1193 1423  467  271  410 1083  516  224  136 1029\n",
            "  333 1440  674 1342  898  824  492  598  740  888 1288  104 1108  479\n",
            " 1351  474  437  884 1370  264 1059  563  457 1313  241 1015  336 1387\n",
            "  170  208  671  711  737 1470  365  763  567  486  772  301  311  584\n",
            "  880  392  148  708 1259  786  370  678  146  581  918 1238  585  741\n",
            "  552  369  717  543  964  792  611  176  897  600 1054  428  181  211\n",
            " 1079  590  305  953  478 1375  244  511 1294  196  734 1239 1253 1128\n",
            " 1336  234  766  261 1194  431  572 1422 1297  574  355  207  706  280\n",
            "  726  414  352 1224  459 1254 1131  835 1172 1266  783  219 1213 1096\n",
            " 1251 1394  605 1064 1337  937  157  754 1168  155 1444  189  911 1321\n",
            " 1154  557  642  801  161 1382 1037  105  582  704  345 1120 1378  468\n",
            "  613 1023  628  466]\n",
            "DistanceFromHome: [ 1  8  2  3 24 23 27 16 15 26 19 21  5 11  9  7  6 10  4 25 12 18 29 22\n",
            " 14 20 28 17 13]\n",
            "Education: [2 1 4 3 5]\n",
            "EnvironmentSatisfaction: [2 3 4 1]\n",
            "HourlyRate: [ 94  61  92  56  40  79  81  67  44  84  49  31  93  50  51  80  96  78\n",
            "  45  82  53  83  58  72  48  42  41  86  97  75  33  37  73  98  36  47\n",
            "  71  30  43  99  59  95  57  76  87  66  55  32  52  70  62  64  63  60\n",
            " 100  46  39  77  35  91  54  34  90  65  88  85  89  68  69  74  38]\n",
            "JobInvolvement: [3 2 4 1]\n",
            "JobLevel: [2 1 3 4 5]\n",
            "JobSatisfaction: [4 2 3 1]\n",
            "MonthlyIncome: [ 5993  5130  2090 ... 12742  9071  2836]\n",
            "NumCompaniesWorked: [8 1 6 9 0 4 5 2 7 3]\n",
            "PercentSalaryHike: [11 23 15 12 13 20 22 21 17 14 16 18 19 24 25]\n",
            "PerformanceRating: [3 4]\n",
            "RelationshipSatisfaction: [1 4 2 3]\n",
            "Shift: [0 1 3 2]\n",
            "TotalWorkingYears: [ 8 10  7  6 12  1 17  5  3 31 13  0 26 24 22  9 19  2 23 14 15  4 29 28\n",
            " 21 25 20 11 16 37 38 30 40 18 36 34 32 33 35 27]\n",
            "TrainingTimesLastYear: [0 3 2 5 1 4 6]\n",
            "WorkLifeBalance: [1 3 2 4]\n",
            "YearsAtCompany: [ 6 10  0  8  2  7  1  9  5  4 25  3 12 14 22 15 27 21 17 11 13 37 16 20\n",
            " 40 24 33 19 36 18 29 31 32 34 26 30 23]\n",
            "YearsInCurrentRole: [ 4  7  0  2  5  9  8  3  6 13  1 15 14 16 11 10 12 18 17]\n",
            "YearsSinceLastPromotion: [ 0  1  3  2  7  4  8  6  5 15  9 13 12 10 11 14]\n",
            "YearsWithCurrManager: [ 5  7  0  2  6  8  3 11 17  1  4 12  9 10 15 13 16 14]\n",
            "BusinessTravel_Non-Travel: [0 1]\n",
            "BusinessTravel_Travel_Frequently: [0 1]\n",
            "BusinessTravel_Travel_Rarely: [1 0]\n",
            "Department_Cardiology: [1 0]\n",
            "Department_Maternity: [0 1]\n",
            "Department_Neurology: [0 1]\n",
            "EducationField_Human Resources: [0 1]\n",
            "EducationField_Life Sciences: [1 0]\n",
            "EducationField_Marketing: [0 1]\n",
            "EducationField_Medical: [0 1]\n",
            "EducationField_Other: [0 1]\n",
            "EducationField_Technical Degree: [0 1]\n",
            "Gender_Female: [1 0]\n",
            "Gender_Male: [0 1]\n",
            "JobRole_Admin: [0 1]\n",
            "JobRole_Administrative: [0 1]\n",
            "JobRole_Nurse: [1 0]\n",
            "JobRole_Other: [0 1]\n",
            "JobRole_Therapist: [0 1]\n",
            "MaritalStatus_Divorced: [0 1]\n",
            "MaritalStatus_Married: [0 1]\n",
            "MaritalStatus_Single: [1 0]\n",
            "OverTime_No: [0 1]\n",
            "OverTime_Yes: [1 0]\n"
          ]
        }
      ]
    },
    {
      "cell_type": "code",
      "source": [
        "# Now for target variable\n",
        "print('Unique y values before encoding:')\n",
        "y.unique()"
      ],
      "metadata": {
        "colab": {
          "base_uri": "https://localhost:8080/"
        },
        "id": "wlLsszOSvfTk",
        "outputId": "b5bcd228-d181-462e-f711-7ed74a1416f3"
      },
      "execution_count": 188,
      "outputs": [
        {
          "output_type": "stream",
          "name": "stdout",
          "text": [
            "Unique y values before encoding:\n"
          ]
        },
        {
          "output_type": "execute_result",
          "data": {
            "text/plain": [
              "array(['No', 'Yes'], dtype=object)"
            ]
          },
          "metadata": {},
          "execution_count": 188
        }
      ]
    },
    {
      "cell_type": "code",
      "source": [
        "from sklearn.preprocessing import LabelEncoder\n",
        "import numpy as np\n",
        "\n",
        "# Encode the labels\n",
        "label_encoder = LabelEncoder()\n",
        "y_encoded = label_encoder.fit_transform(y)\n",
        "\n",
        "# Get unique values\n",
        "unique_values = np.unique(y_encoded)\n",
        "print('Unique y values after encoding:')\n",
        "print(unique_values)"
      ],
      "metadata": {
        "colab": {
          "base_uri": "https://localhost:8080/"
        },
        "id": "oTpSjGn3fsIr",
        "outputId": "fcd128ca-f06f-4fef-dff8-9c729a070c89"
      },
      "execution_count": 189,
      "outputs": [
        {
          "output_type": "stream",
          "name": "stdout",
          "text": [
            "Unique y values after encoding:\n",
            "[0 1]\n"
          ]
        }
      ]
    },
    {
      "cell_type": "code",
      "source": [
        "# Splitting data into training and testing sets\n",
        "X_train, X_test, y_train, y_test = train_test_split(X, y_encoded, test_size=0.2, random_state=373)\n",
        "\n",
        "# Confirming the split was successful\n",
        "if len(X_train) + len(X_test) == len(X) and len(y_train) + len(y_test) == len(y):\n",
        "    print(\"Data split successful!\")\n",
        "    print(f\"Training set size: {len(X_train)} samples\")\n",
        "    print(f\"Testing set size: {len(X_test)} samples\")\n",
        "else:\n",
        "    print(\"Data split unsuccessful. Please check your data!\")"
      ],
      "metadata": {
        "colab": {
          "base_uri": "https://localhost:8080/"
        },
        "id": "7Y0axODBlBrk",
        "outputId": "539dd6cc-36c0-4e27-afa9-5de940f73673"
      },
      "execution_count": 191,
      "outputs": [
        {
          "output_type": "stream",
          "name": "stdout",
          "text": [
            "Data split successful!\n",
            "Training set size: 1340 samples\n",
            "Testing set size: 336 samples\n"
          ]
        }
      ]
    },
    {
      "cell_type": "code",
      "execution_count": 192,
      "metadata": {
        "id": "36bbbefa"
      },
      "outputs": [],
      "source": [
        "from sklearn.tree import DecisionTreeClassifier\n",
        "\n",
        "# Create a tree model with defaults\n",
        "clf = DecisionTreeClassifier(\n",
        "    criterion=\"gini\",  # The function to measure the quality of a split. Options: \"gini\" for Gini Impurity or \"entropy\" for Information Gain.\n",
        "    # splitter=\"best\",  # The strategy used to choose the split at each node. Options: \"best\" or \"random\".\n",
        "    max_depth=None,  # The maximum depth of the tree. None means nodes are expanded until all leaves are pure or contain < min_samples_split samples.\n",
        "    min_samples_split=2,  # The minimum number of samples required to split an internal node. Must be at least 2.\n",
        "    # min_samples_leaf=1,  # The minimum number of samples required to be at a leaf node.\n",
        "    # min_weight_fraction_leaf=0.0,  # The minimum weighted fraction of the sum total of weights required to be at a leaf node.\n",
        "    # max_features=None,  # The number of features to consider when looking for the best split. None means all features are considered.\n",
        "    random_state=373,  # Controls the randomness of the estimator. Ensures reproducibility of results.\n",
        "    # max_leaf_nodes=None,  # Grow the tree with the specified maximum number of leaf nodes. None means unlimited leaf nodes.\n",
        "    min_impurity_decrease=0.0,  # A node will be split if this split induces a decrease of the impurity greater than or equal to this value. The default value is 0.0, which means that as long as a split reduces the impurity, it will be performed.\n",
        "    # class_weight=None,  # Weights associated with classes. If None, all classes are weighted equally.\n",
        "    # ccp_alpha=0.0  # Complexity parameter used for Minimal Cost-Complexity Pruning. A larger value results in a more pruned tree.\n",
        ")\n"
      ]
    },
    {
      "cell_type": "code",
      "execution_count": 193,
      "metadata": {
        "id": "9ba1a565",
        "outputId": "b784875e-9f36-4ed2-c9de-6e83fbff774f",
        "colab": {
          "base_uri": "https://localhost:8080/",
          "height": 80
        }
      },
      "outputs": [
        {
          "output_type": "execute_result",
          "data": {
            "text/plain": [
              "DecisionTreeClassifier(random_state=373)"
            ],
            "text/html": [
              "<style>#sk-container-id-1 {\n",
              "  /* Definition of color scheme common for light and dark mode */\n",
              "  --sklearn-color-text: #000;\n",
              "  --sklearn-color-text-muted: #666;\n",
              "  --sklearn-color-line: gray;\n",
              "  /* Definition of color scheme for unfitted estimators */\n",
              "  --sklearn-color-unfitted-level-0: #fff5e6;\n",
              "  --sklearn-color-unfitted-level-1: #f6e4d2;\n",
              "  --sklearn-color-unfitted-level-2: #ffe0b3;\n",
              "  --sklearn-color-unfitted-level-3: chocolate;\n",
              "  /* Definition of color scheme for fitted estimators */\n",
              "  --sklearn-color-fitted-level-0: #f0f8ff;\n",
              "  --sklearn-color-fitted-level-1: #d4ebff;\n",
              "  --sklearn-color-fitted-level-2: #b3dbfd;\n",
              "  --sklearn-color-fitted-level-3: cornflowerblue;\n",
              "\n",
              "  /* Specific color for light theme */\n",
              "  --sklearn-color-text-on-default-background: var(--sg-text-color, var(--theme-code-foreground, var(--jp-content-font-color1, black)));\n",
              "  --sklearn-color-background: var(--sg-background-color, var(--theme-background, var(--jp-layout-color0, white)));\n",
              "  --sklearn-color-border-box: var(--sg-text-color, var(--theme-code-foreground, var(--jp-content-font-color1, black)));\n",
              "  --sklearn-color-icon: #696969;\n",
              "\n",
              "  @media (prefers-color-scheme: dark) {\n",
              "    /* Redefinition of color scheme for dark theme */\n",
              "    --sklearn-color-text-on-default-background: var(--sg-text-color, var(--theme-code-foreground, var(--jp-content-font-color1, white)));\n",
              "    --sklearn-color-background: var(--sg-background-color, var(--theme-background, var(--jp-layout-color0, #111)));\n",
              "    --sklearn-color-border-box: var(--sg-text-color, var(--theme-code-foreground, var(--jp-content-font-color1, white)));\n",
              "    --sklearn-color-icon: #878787;\n",
              "  }\n",
              "}\n",
              "\n",
              "#sk-container-id-1 {\n",
              "  color: var(--sklearn-color-text);\n",
              "}\n",
              "\n",
              "#sk-container-id-1 pre {\n",
              "  padding: 0;\n",
              "}\n",
              "\n",
              "#sk-container-id-1 input.sk-hidden--visually {\n",
              "  border: 0;\n",
              "  clip: rect(1px 1px 1px 1px);\n",
              "  clip: rect(1px, 1px, 1px, 1px);\n",
              "  height: 1px;\n",
              "  margin: -1px;\n",
              "  overflow: hidden;\n",
              "  padding: 0;\n",
              "  position: absolute;\n",
              "  width: 1px;\n",
              "}\n",
              "\n",
              "#sk-container-id-1 div.sk-dashed-wrapped {\n",
              "  border: 1px dashed var(--sklearn-color-line);\n",
              "  margin: 0 0.4em 0.5em 0.4em;\n",
              "  box-sizing: border-box;\n",
              "  padding-bottom: 0.4em;\n",
              "  background-color: var(--sklearn-color-background);\n",
              "}\n",
              "\n",
              "#sk-container-id-1 div.sk-container {\n",
              "  /* jupyter's `normalize.less` sets `[hidden] { display: none; }`\n",
              "     but bootstrap.min.css set `[hidden] { display: none !important; }`\n",
              "     so we also need the `!important` here to be able to override the\n",
              "     default hidden behavior on the sphinx rendered scikit-learn.org.\n",
              "     See: https://github.com/scikit-learn/scikit-learn/issues/21755 */\n",
              "  display: inline-block !important;\n",
              "  position: relative;\n",
              "}\n",
              "\n",
              "#sk-container-id-1 div.sk-text-repr-fallback {\n",
              "  display: none;\n",
              "}\n",
              "\n",
              "div.sk-parallel-item,\n",
              "div.sk-serial,\n",
              "div.sk-item {\n",
              "  /* draw centered vertical line to link estimators */\n",
              "  background-image: linear-gradient(var(--sklearn-color-text-on-default-background), var(--sklearn-color-text-on-default-background));\n",
              "  background-size: 2px 100%;\n",
              "  background-repeat: no-repeat;\n",
              "  background-position: center center;\n",
              "}\n",
              "\n",
              "/* Parallel-specific style estimator block */\n",
              "\n",
              "#sk-container-id-1 div.sk-parallel-item::after {\n",
              "  content: \"\";\n",
              "  width: 100%;\n",
              "  border-bottom: 2px solid var(--sklearn-color-text-on-default-background);\n",
              "  flex-grow: 1;\n",
              "}\n",
              "\n",
              "#sk-container-id-1 div.sk-parallel {\n",
              "  display: flex;\n",
              "  align-items: stretch;\n",
              "  justify-content: center;\n",
              "  background-color: var(--sklearn-color-background);\n",
              "  position: relative;\n",
              "}\n",
              "\n",
              "#sk-container-id-1 div.sk-parallel-item {\n",
              "  display: flex;\n",
              "  flex-direction: column;\n",
              "}\n",
              "\n",
              "#sk-container-id-1 div.sk-parallel-item:first-child::after {\n",
              "  align-self: flex-end;\n",
              "  width: 50%;\n",
              "}\n",
              "\n",
              "#sk-container-id-1 div.sk-parallel-item:last-child::after {\n",
              "  align-self: flex-start;\n",
              "  width: 50%;\n",
              "}\n",
              "\n",
              "#sk-container-id-1 div.sk-parallel-item:only-child::after {\n",
              "  width: 0;\n",
              "}\n",
              "\n",
              "/* Serial-specific style estimator block */\n",
              "\n",
              "#sk-container-id-1 div.sk-serial {\n",
              "  display: flex;\n",
              "  flex-direction: column;\n",
              "  align-items: center;\n",
              "  background-color: var(--sklearn-color-background);\n",
              "  padding-right: 1em;\n",
              "  padding-left: 1em;\n",
              "}\n",
              "\n",
              "\n",
              "/* Toggleable style: style used for estimator/Pipeline/ColumnTransformer box that is\n",
              "clickable and can be expanded/collapsed.\n",
              "- Pipeline and ColumnTransformer use this feature and define the default style\n",
              "- Estimators will overwrite some part of the style using the `sk-estimator` class\n",
              "*/\n",
              "\n",
              "/* Pipeline and ColumnTransformer style (default) */\n",
              "\n",
              "#sk-container-id-1 div.sk-toggleable {\n",
              "  /* Default theme specific background. It is overwritten whether we have a\n",
              "  specific estimator or a Pipeline/ColumnTransformer */\n",
              "  background-color: var(--sklearn-color-background);\n",
              "}\n",
              "\n",
              "/* Toggleable label */\n",
              "#sk-container-id-1 label.sk-toggleable__label {\n",
              "  cursor: pointer;\n",
              "  display: flex;\n",
              "  width: 100%;\n",
              "  margin-bottom: 0;\n",
              "  padding: 0.5em;\n",
              "  box-sizing: border-box;\n",
              "  text-align: center;\n",
              "  align-items: start;\n",
              "  justify-content: space-between;\n",
              "  gap: 0.5em;\n",
              "}\n",
              "\n",
              "#sk-container-id-1 label.sk-toggleable__label .caption {\n",
              "  font-size: 0.6rem;\n",
              "  font-weight: lighter;\n",
              "  color: var(--sklearn-color-text-muted);\n",
              "}\n",
              "\n",
              "#sk-container-id-1 label.sk-toggleable__label-arrow:before {\n",
              "  /* Arrow on the left of the label */\n",
              "  content: \"▸\";\n",
              "  float: left;\n",
              "  margin-right: 0.25em;\n",
              "  color: var(--sklearn-color-icon);\n",
              "}\n",
              "\n",
              "#sk-container-id-1 label.sk-toggleable__label-arrow:hover:before {\n",
              "  color: var(--sklearn-color-text);\n",
              "}\n",
              "\n",
              "/* Toggleable content - dropdown */\n",
              "\n",
              "#sk-container-id-1 div.sk-toggleable__content {\n",
              "  max-height: 0;\n",
              "  max-width: 0;\n",
              "  overflow: hidden;\n",
              "  text-align: left;\n",
              "  /* unfitted */\n",
              "  background-color: var(--sklearn-color-unfitted-level-0);\n",
              "}\n",
              "\n",
              "#sk-container-id-1 div.sk-toggleable__content.fitted {\n",
              "  /* fitted */\n",
              "  background-color: var(--sklearn-color-fitted-level-0);\n",
              "}\n",
              "\n",
              "#sk-container-id-1 div.sk-toggleable__content pre {\n",
              "  margin: 0.2em;\n",
              "  border-radius: 0.25em;\n",
              "  color: var(--sklearn-color-text);\n",
              "  /* unfitted */\n",
              "  background-color: var(--sklearn-color-unfitted-level-0);\n",
              "}\n",
              "\n",
              "#sk-container-id-1 div.sk-toggleable__content.fitted pre {\n",
              "  /* unfitted */\n",
              "  background-color: var(--sklearn-color-fitted-level-0);\n",
              "}\n",
              "\n",
              "#sk-container-id-1 input.sk-toggleable__control:checked~div.sk-toggleable__content {\n",
              "  /* Expand drop-down */\n",
              "  max-height: 200px;\n",
              "  max-width: 100%;\n",
              "  overflow: auto;\n",
              "}\n",
              "\n",
              "#sk-container-id-1 input.sk-toggleable__control:checked~label.sk-toggleable__label-arrow:before {\n",
              "  content: \"▾\";\n",
              "}\n",
              "\n",
              "/* Pipeline/ColumnTransformer-specific style */\n",
              "\n",
              "#sk-container-id-1 div.sk-label input.sk-toggleable__control:checked~label.sk-toggleable__label {\n",
              "  color: var(--sklearn-color-text);\n",
              "  background-color: var(--sklearn-color-unfitted-level-2);\n",
              "}\n",
              "\n",
              "#sk-container-id-1 div.sk-label.fitted input.sk-toggleable__control:checked~label.sk-toggleable__label {\n",
              "  background-color: var(--sklearn-color-fitted-level-2);\n",
              "}\n",
              "\n",
              "/* Estimator-specific style */\n",
              "\n",
              "/* Colorize estimator box */\n",
              "#sk-container-id-1 div.sk-estimator input.sk-toggleable__control:checked~label.sk-toggleable__label {\n",
              "  /* unfitted */\n",
              "  background-color: var(--sklearn-color-unfitted-level-2);\n",
              "}\n",
              "\n",
              "#sk-container-id-1 div.sk-estimator.fitted input.sk-toggleable__control:checked~label.sk-toggleable__label {\n",
              "  /* fitted */\n",
              "  background-color: var(--sklearn-color-fitted-level-2);\n",
              "}\n",
              "\n",
              "#sk-container-id-1 div.sk-label label.sk-toggleable__label,\n",
              "#sk-container-id-1 div.sk-label label {\n",
              "  /* The background is the default theme color */\n",
              "  color: var(--sklearn-color-text-on-default-background);\n",
              "}\n",
              "\n",
              "/* On hover, darken the color of the background */\n",
              "#sk-container-id-1 div.sk-label:hover label.sk-toggleable__label {\n",
              "  color: var(--sklearn-color-text);\n",
              "  background-color: var(--sklearn-color-unfitted-level-2);\n",
              "}\n",
              "\n",
              "/* Label box, darken color on hover, fitted */\n",
              "#sk-container-id-1 div.sk-label.fitted:hover label.sk-toggleable__label.fitted {\n",
              "  color: var(--sklearn-color-text);\n",
              "  background-color: var(--sklearn-color-fitted-level-2);\n",
              "}\n",
              "\n",
              "/* Estimator label */\n",
              "\n",
              "#sk-container-id-1 div.sk-label label {\n",
              "  font-family: monospace;\n",
              "  font-weight: bold;\n",
              "  display: inline-block;\n",
              "  line-height: 1.2em;\n",
              "}\n",
              "\n",
              "#sk-container-id-1 div.sk-label-container {\n",
              "  text-align: center;\n",
              "}\n",
              "\n",
              "/* Estimator-specific */\n",
              "#sk-container-id-1 div.sk-estimator {\n",
              "  font-family: monospace;\n",
              "  border: 1px dotted var(--sklearn-color-border-box);\n",
              "  border-radius: 0.25em;\n",
              "  box-sizing: border-box;\n",
              "  margin-bottom: 0.5em;\n",
              "  /* unfitted */\n",
              "  background-color: var(--sklearn-color-unfitted-level-0);\n",
              "}\n",
              "\n",
              "#sk-container-id-1 div.sk-estimator.fitted {\n",
              "  /* fitted */\n",
              "  background-color: var(--sklearn-color-fitted-level-0);\n",
              "}\n",
              "\n",
              "/* on hover */\n",
              "#sk-container-id-1 div.sk-estimator:hover {\n",
              "  /* unfitted */\n",
              "  background-color: var(--sklearn-color-unfitted-level-2);\n",
              "}\n",
              "\n",
              "#sk-container-id-1 div.sk-estimator.fitted:hover {\n",
              "  /* fitted */\n",
              "  background-color: var(--sklearn-color-fitted-level-2);\n",
              "}\n",
              "\n",
              "/* Specification for estimator info (e.g. \"i\" and \"?\") */\n",
              "\n",
              "/* Common style for \"i\" and \"?\" */\n",
              "\n",
              ".sk-estimator-doc-link,\n",
              "a:link.sk-estimator-doc-link,\n",
              "a:visited.sk-estimator-doc-link {\n",
              "  float: right;\n",
              "  font-size: smaller;\n",
              "  line-height: 1em;\n",
              "  font-family: monospace;\n",
              "  background-color: var(--sklearn-color-background);\n",
              "  border-radius: 1em;\n",
              "  height: 1em;\n",
              "  width: 1em;\n",
              "  text-decoration: none !important;\n",
              "  margin-left: 0.5em;\n",
              "  text-align: center;\n",
              "  /* unfitted */\n",
              "  border: var(--sklearn-color-unfitted-level-1) 1pt solid;\n",
              "  color: var(--sklearn-color-unfitted-level-1);\n",
              "}\n",
              "\n",
              ".sk-estimator-doc-link.fitted,\n",
              "a:link.sk-estimator-doc-link.fitted,\n",
              "a:visited.sk-estimator-doc-link.fitted {\n",
              "  /* fitted */\n",
              "  border: var(--sklearn-color-fitted-level-1) 1pt solid;\n",
              "  color: var(--sklearn-color-fitted-level-1);\n",
              "}\n",
              "\n",
              "/* On hover */\n",
              "div.sk-estimator:hover .sk-estimator-doc-link:hover,\n",
              ".sk-estimator-doc-link:hover,\n",
              "div.sk-label-container:hover .sk-estimator-doc-link:hover,\n",
              ".sk-estimator-doc-link:hover {\n",
              "  /* unfitted */\n",
              "  background-color: var(--sklearn-color-unfitted-level-3);\n",
              "  color: var(--sklearn-color-background);\n",
              "  text-decoration: none;\n",
              "}\n",
              "\n",
              "div.sk-estimator.fitted:hover .sk-estimator-doc-link.fitted:hover,\n",
              ".sk-estimator-doc-link.fitted:hover,\n",
              "div.sk-label-container:hover .sk-estimator-doc-link.fitted:hover,\n",
              ".sk-estimator-doc-link.fitted:hover {\n",
              "  /* fitted */\n",
              "  background-color: var(--sklearn-color-fitted-level-3);\n",
              "  color: var(--sklearn-color-background);\n",
              "  text-decoration: none;\n",
              "}\n",
              "\n",
              "/* Span, style for the box shown on hovering the info icon */\n",
              ".sk-estimator-doc-link span {\n",
              "  display: none;\n",
              "  z-index: 9999;\n",
              "  position: relative;\n",
              "  font-weight: normal;\n",
              "  right: .2ex;\n",
              "  padding: .5ex;\n",
              "  margin: .5ex;\n",
              "  width: min-content;\n",
              "  min-width: 20ex;\n",
              "  max-width: 50ex;\n",
              "  color: var(--sklearn-color-text);\n",
              "  box-shadow: 2pt 2pt 4pt #999;\n",
              "  /* unfitted */\n",
              "  background: var(--sklearn-color-unfitted-level-0);\n",
              "  border: .5pt solid var(--sklearn-color-unfitted-level-3);\n",
              "}\n",
              "\n",
              ".sk-estimator-doc-link.fitted span {\n",
              "  /* fitted */\n",
              "  background: var(--sklearn-color-fitted-level-0);\n",
              "  border: var(--sklearn-color-fitted-level-3);\n",
              "}\n",
              "\n",
              ".sk-estimator-doc-link:hover span {\n",
              "  display: block;\n",
              "}\n",
              "\n",
              "/* \"?\"-specific style due to the `<a>` HTML tag */\n",
              "\n",
              "#sk-container-id-1 a.estimator_doc_link {\n",
              "  float: right;\n",
              "  font-size: 1rem;\n",
              "  line-height: 1em;\n",
              "  font-family: monospace;\n",
              "  background-color: var(--sklearn-color-background);\n",
              "  border-radius: 1rem;\n",
              "  height: 1rem;\n",
              "  width: 1rem;\n",
              "  text-decoration: none;\n",
              "  /* unfitted */\n",
              "  color: var(--sklearn-color-unfitted-level-1);\n",
              "  border: var(--sklearn-color-unfitted-level-1) 1pt solid;\n",
              "}\n",
              "\n",
              "#sk-container-id-1 a.estimator_doc_link.fitted {\n",
              "  /* fitted */\n",
              "  border: var(--sklearn-color-fitted-level-1) 1pt solid;\n",
              "  color: var(--sklearn-color-fitted-level-1);\n",
              "}\n",
              "\n",
              "/* On hover */\n",
              "#sk-container-id-1 a.estimator_doc_link:hover {\n",
              "  /* unfitted */\n",
              "  background-color: var(--sklearn-color-unfitted-level-3);\n",
              "  color: var(--sklearn-color-background);\n",
              "  text-decoration: none;\n",
              "}\n",
              "\n",
              "#sk-container-id-1 a.estimator_doc_link.fitted:hover {\n",
              "  /* fitted */\n",
              "  background-color: var(--sklearn-color-fitted-level-3);\n",
              "}\n",
              "</style><div id=\"sk-container-id-1\" class=\"sk-top-container\"><div class=\"sk-text-repr-fallback\"><pre>DecisionTreeClassifier(random_state=373)</pre><b>In a Jupyter environment, please rerun this cell to show the HTML representation or trust the notebook. <br />On GitHub, the HTML representation is unable to render, please try loading this page with nbviewer.org.</b></div><div class=\"sk-container\" hidden><div class=\"sk-item\"><div class=\"sk-estimator fitted sk-toggleable\"><input class=\"sk-toggleable__control sk-hidden--visually\" id=\"sk-estimator-id-1\" type=\"checkbox\" checked><label for=\"sk-estimator-id-1\" class=\"sk-toggleable__label fitted sk-toggleable__label-arrow\"><div><div>DecisionTreeClassifier</div></div><div><a class=\"sk-estimator-doc-link fitted\" rel=\"noreferrer\" target=\"_blank\" href=\"https://scikit-learn.org/1.6/modules/generated/sklearn.tree.DecisionTreeClassifier.html\">?<span>Documentation for DecisionTreeClassifier</span></a><span class=\"sk-estimator-doc-link fitted\">i<span>Fitted</span></span></div></label><div class=\"sk-toggleable__content fitted\"><pre>DecisionTreeClassifier(random_state=373)</pre></div> </div></div></div></div>"
            ]
          },
          "metadata": {},
          "execution_count": 193
        }
      ],
      "source": [
        "# Fit (train) the model\n",
        "clf.fit(X = X_train,\n",
        "        y = y_train,\n",
        "        #sample_weight=None,\n",
        "        #check_input=True\n",
        "       )"
      ]
    }
  ]
}