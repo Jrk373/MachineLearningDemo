{
  "nbformat": 4,
  "nbformat_minor": 0,
  "metadata": {
    "colab": {
      "provenance": [],
      "toc_visible": true,
      "authorship_tag": "ABX9TyPbMGyl51+WRvXJcyFIS7KU",
      "include_colab_link": true
    },
    "kernelspec": {
      "name": "python3",
      "display_name": "Python 3"
    },
    "language_info": {
      "name": "python"
    }
  },
  "cells": [
    {
      "cell_type": "markdown",
      "metadata": {
        "id": "view-in-github",
        "colab_type": "text"
      },
      "source": [
        "<a href=\"https://colab.research.google.com/github/Jrk373/MachineLearningDemo/blob/main/HealthcareAttritionModel.ipynb\" target=\"_parent\"><img src=\"https://colab.research.google.com/assets/colab-badge.svg\" alt=\"Open In Colab\"/></a>"
      ]
    },
    {
      "cell_type": "markdown",
      "source": [
        "# Create a Narrow AI using Linear Regression\n",
        "John Ryan Kivela  \n",
        "The Narbha Institute  \n",
        "January 2025\n"
      ],
      "metadata": {
        "id": "gn_VG9XHGtQP"
      }
    },
    {
      "cell_type": "markdown",
      "metadata": {
        "id": "lvL9Lkhg4aON"
      },
      "source": [
        "# Introduction\n",
        "\n",
        "This is walkthrough demonstration of fundemental Machine Learning concepts and techniques used in developing Artificial Intelligence (AI).\n",
        "\n",
        "The activity will create a Narrow Artificial Intelligence, called Rayne 1.0, who will tell us a person's income based on healthcare indicators.\n",
        "\n",
        "Narrow AI, also known as Weak AI, is a type of artificial intelligence designed to perform a specific task or solve a particular problem with high efficiency. Unlike General AI, Narrow AI is limited in scope and cannot adapt to tasks outside its predefined domain.\n",
        "\n",
        "**Meet Rayne!**\n",
        "\n",
        "They deliver Sales Price, with attitude.\n",
        "\n",
        " <img src=\"https://github.com/Jrk373/MachineLearningDemo/blob/main/Kid.jpg?raw=true\" alt=\"Rayne 1.0\" width=\"250\" height=\"400\" />\n",
        "\n",
        "## Intended Audience\n",
        "\n",
        "- The intended audience is a discerning group of professionals with strong data literacy, advanced education in mathematics like Central Limits Theorum (Mean, Median, Mode, Standard Deviation, etc.), and basic Linear Algebra.\n",
        "\n",
        "- It is not necessary to understand computer languages for this activity. This notebook primarily speaks in Python, but it is programmed to run all code and calculations out-of-the-box.\n",
        "\n",
        "## Materials\n",
        "\n",
        "- This notebook is open source. All of these materials will be located in a public Github repository.\n",
        "\n",
        "  https://github.com/Jrk373/MachineLearningDemo\n",
        "\n",
        "- The goal is for the instructor to walk through the Notebook with the audience watching and discussing. Then the instructor and the class go through the notebook together. The learner can then go on to use the Notebook on their own.\n",
        "\n",
        "## CRISP-DM\n",
        "\n",
        "CRISP-DM stands for Cross-Industry Standard Process for Data Mining. It's a popular method used to guide data mining and data science projects. The process is divided into six main phases:\n",
        "\n",
        "- **Business Understanding:** Understand the project's goals and requirements from a business perspective.\n",
        "- **Data Understanding:** Collect and analyze the data to understand its characteristics.\n",
        "- **Data Preparation:** Clean and prepare the data for analysis.\n",
        "- **Modeling:** Apply different modeling techniques to the prepared data.\n",
        "- **Evaluation:** Assess the models to ensure they meet the business objectives.\n",
        "- **Deployment:** Implement the model in the real-world environment and monitor its performance.\n",
        "\n",
        "## Object Oriented Programming\n",
        "\n",
        "## Python\n",
        "\n",
        "## Jupyter Notebooks\n",
        "\n",
        "The notebook relies heavily on foundations from the ODSC West 2024 AI Bootcamp. It is referenced specificfally throughout, but can also be acknoweldged broadly as the inspiration for this notebook. This notebook also partners with AI as a generator of code and content.\n",
        "\n",
        "## Enjoy!"
      ]
    },
    {
      "cell_type": "markdown",
      "metadata": {
        "id": "mCaKvqmJib-x"
      },
      "source": [
        "# Stage 1: Business Understanding\n",
        "\n",
        "\n",
        "\n"
      ]
    },
    {
      "cell_type": "markdown",
      "metadata": {
        "id": "MbaRt27G8_9Y"
      },
      "source": [
        "The Business Understanding phase of CRISP-DM focuses on defining the project’s goals and objectives from a business perspective. This stage ensures that the data science work aligns with the organization’s needs and delivers value."
      ]
    },
    {
      "cell_type": "markdown",
      "metadata": {
        "id": "w91lB5OM8qFs"
      },
      "source": [
        "# Stage 2: Data Understanding"
      ]
    },
    {
      "cell_type": "markdown",
      "metadata": {
        "id": "i0V3ftNXpJW8"
      },
      "source": [
        "The Data Understanding phase of the CRISP-DM (Cross-Industry Standard Process for Data Mining) framework focuses on exploring and analyzing the available data to ensure it is suitable for the project's goals.\n",
        "\n",
        "It involves the following steps:\n",
        "\n",
        "- **Data Collection:** Gather initial data from relevant sources.\n",
        "\n",
        "- **Data Description:** Summarize key attributes, including data types, formats, and basic statistics (e.g., means, counts, ranges).\n",
        "\n",
        "- **Data Exploration:** Use visualizations and analyses to identify patterns, trends, or potential relationships in the data.\n",
        "\n",
        "- **Data Quality Assessment:** Check for issues such as missing values, outliers, inconsistencies, or inaccuracies.\n",
        "The objective is to develop insights into the data, identify challenges, and determine whether it can support the project's objectives effectively."
      ]
    },
    {
      "cell_type": "markdown",
      "source": [
        "## About the Data Set\n",
        "\n",
        "Attrition of nurses in the US Healthcare system is at an all-time high. It is a major area of focus, especially for hospitals.\n",
        "\n",
        "This dataset contains employee and company data useful for supervised ML, unsupervised ML, and analytics. Attrition - whether an employee left or not - is included and can be used as the target variable.\n",
        "\n",
        "The data is synthetic and based on the IBM Watson dataset for attrition. Employee roles and departments were changed to reflect the healthcare domain. Also, known outcomes for some employees were changed to help increase the performance of ML models.\n",
        "\n",
        "https://www.kaggle.com/datasets/jpmiller/employee-attrition-for-healthcare"
      ],
      "metadata": {
        "id": "JvlS95fkdPQu"
      }
    },
    {
      "cell_type": "code",
      "execution_count": null,
      "metadata": {
        "id": "a6ecc516"
      },
      "outputs": [],
      "source": [
        "# Import Libraries\n",
        "import pandas as pd\n",
        "import numpy as np\n",
        "import matplotlib.pyplot as plt\n",
        "import seaborn as sns\n",
        "\n",
        "\n",
        "from sklearn.model_selection import train_test_split, cross_val_score, GridSearchCV\n",
        "from sklearn.tree import DecisionTreeClassifier, plot_tree\n",
        "from sklearn.metrics import accuracy_score, classification_report, confusion_matrix, roc_auc_score\n",
        "from sklearn.impute import SimpleImputer\n"
      ]
    },
    {
      "cell_type": "code",
      "source": [
        "import urllib.request\n",
        "import pandas as pd\n",
        "\n",
        "# Corrected URL with raw content\n",
        "url = 'https://raw.githubusercontent.com/Jrk373/MachineLearningDemo/main/watson_healthcare_modified.csv'\n",
        "file_path = 'watson_healthcare_modified.csv'\n",
        "\n",
        "# Download the file\n",
        "urllib.request.urlretrieve(url, file_path)\n",
        "\n",
        "# Load the dataset\n",
        "try:\n",
        "    df = pd.read_csv(file_path)\n",
        "    print('Successfully downloaded', file_path)\n",
        "    print('Data successfully loaded as data frame \"df\"')\n",
        "except pd.errors.ParserError as e:\n",
        "    print(\"ParserError encountered:\", e)\n",
        "    print(\"Attempting to load with alternative options...\")\n",
        "    df = pd.read_csv(file_path, delimiter=',', error_bad_lines=False)\n",
        "    print(\"Data loaded with error handling.\")\n"
      ],
      "metadata": {
        "collapsed": true,
        "id": "ZJAMAAG7pHgH",
        "outputId": "d57f16e7-f847-453e-9a98-a3fb05fa3ba0",
        "colab": {
          "base_uri": "https://localhost:8080/"
        }
      },
      "execution_count": null,
      "outputs": [
        {
          "output_type": "stream",
          "name": "stdout",
          "text": [
            "Successfully downloaded watson_healthcare_modified.csv\n",
            "Data successfully loaded as data frame \"df\"\n"
          ]
        }
      ]
    },
    {
      "cell_type": "markdown",
      "source": [
        "## Data Dictionary for Watson Healthcare Modified Dataset\n",
        "\n",
        "| Column Name                 | Data Type | Description                                                                 |\n",
        "|-----------------------------|-----------|-----------------------------------------------------------------------------|\n",
        "| **EmployeeID**              | Integer   | Unique identifier for each employee.                                        |\n",
        "| **Age**                     | Integer   | Age of the employee.                                                        |\n",
        "| **Attrition**               | String    | Whether the employee has left the company (\"Yes\" or \"No\").                  |\n",
        "| **BusinessTravel**          | String    | Frequency of business travel (\"Travel_Rarely\", \"Travel_Frequently\", etc.).  |\n",
        "| **DailyRate**               | Integer   | Daily rate of the employee's salary.                                        |\n",
        "| **Department**              | String    | Department where the employee works (e.g., \"Cardiology\", \"Maternity\").      |\n",
        "| **DistanceFromHome**        | Integer   | Distance from home to the workplace (in miles or another unit).             |\n",
        "| **Education**               | Integer   | Education level (e.g., 1 = High School, 2 = Bachelor's, etc.).              |\n",
        "| **EducationField**          | String    | Field of education (e.g., \"Life Sciences\", \"Medical\").                      |\n",
        "| **EmployeeCount**           | Integer   | Always 1 for each employee (likely a placeholder).                          |\n",
        "| **EnvironmentSatisfaction** | Integer   | Satisfaction with the work environment (1 to 4).                            |\n",
        "| **Gender**                  | String    | Gender of the employee (\"Male\", \"Female\").                                  |\n",
        "| **HourlyRate**              | Integer   | Hourly rate of the employee's salary.                                       |\n",
        "| **JobInvolvement**          | Integer   | Level of job involvement (1 to 4).                                          |\n",
        "| **JobLevel**                | Integer   | Job level (e.g., 1 = Entry level).                                          |\n",
        "| **JobRole**                 | String    | Job role (e.g., \"Manager\", \"Technician\").                                   |\n",
        "| **JobSatisfaction**         | Integer   | Job satisfaction level (1 to 4).                                            |\n",
        "| **MaritalStatus**           | String    | Marital status (e.g., \"Single\", \"Married\").                                 |\n",
        "| **MonthlyIncome**           | Integer   | Monthly income of the employee.                                             |\n",
        "| **MonthlyRate**             | Integer   | Monthly rate of the employee's salary.                                      |\n",
        "| **NumCompaniesWorked**      | Integer   | Number of companies the employee has worked at previously.                  |\n",
        "| **Over18**                  | String    | Whether the employee is over 18 (\"Yes\").                                    |\n",
        "| **OverTime**                | String    | Whether the employee works overtime (\"Yes\" or \"No\").                        |\n",
        "| **PercentSalaryHike**       | Integer   | Percentage of salary hike during the last appraisal.                        |\n",
        "| **PerformanceRating**       | Integer   | Performance rating (1 to 4).                                                |\n",
        "| **RelationshipSatisfaction**| Integer   | Satisfaction with relationships at work (1 to 4).                           |\n",
        "| **StandardHours**           | Integer   | Standard working hours (typically 80).                                      |\n",
        "| **Shift**                   | Integer   | Shift timing (e.g., 0 = Morning, 1 = Night).                                |\n",
        "| **TotalWorkingYears**       | Integer   | Total working years of the employee.                                        |\n",
        "| **TrainingTimesLastYear**   | Integer   | Number of training sessions attended last year.                             |\n",
        "| **WorkLifeBalance**         | Integer   | Work-life balance satisfaction (1 to 4).                                    |\n",
        "| **YearsAtCompany**          | Integer   | Number of years the employee has been at the company.                       |\n",
        "| **YearsInCurrentRole**      | Integer   | Number of years in the current role.                                        |\n",
        "| **YearsSinceLastPromotion** | Integer   | Number of years since the last promotion.                                   |\n",
        "| **YearsWithCurrManager**    | Integer   | Number of years working with the current manager.                           |\n",
        "\n",
        "\n",
        "---\n",
        "\n",
        "## Sources\n",
        "\n",
        "- Dataset: [Employee Attrition for Healthcare](https://www.kaggle.com/datasets/jpmiller/employee-attrition-for-healthcare)\n",
        "- Data Dictionary: Compiled from the dataset's description and metadata.\n",
        "\n",
        "*Note:* Columns like `EmployeeCount` and `StandardHours` have constant values across all records and may not provide useful information for analysis.\n"
      ],
      "metadata": {
        "id": "v9mC8yLKP9Ef"
      }
    },
    {
      "cell_type": "markdown",
      "metadata": {
        "id": "c2CnDwjRO1nk"
      },
      "source": [
        "## Data Shape"
      ]
    },
    {
      "cell_type": "markdown",
      "metadata": {
        "id": "LYEj5WMNAhLv"
      },
      "source": [
        "Assessing the shape of data helps identify its dimensionality (rows and columns), which is crucial for understanding its structure and determining suitable analysis techniques. It ensures the dataset is in the expected format, enabling error detection and proper preprocessing. Additionally, knowing the data shape aids in resource optimization and selecting the right tools for analysis."
      ]
    },
    {
      "cell_type": "code",
      "execution_count": null,
      "metadata": {
        "colab": {
          "base_uri": "https://localhost:8080/"
        },
        "id": "3oi96O3mNtjE",
        "outputId": "b3b49393-dfd3-4174-8caf-7196c287c031"
      },
      "outputs": [
        {
          "output_type": "stream",
          "name": "stdout",
          "text": [
            "Data set rows and columns: (1676, 35)\n"
          ]
        }
      ],
      "source": [
        "# Import necessary packages\n",
        "import pandas as pd\n",
        "\n",
        "# Check the shape (rows, columns)\n",
        "print('Data set rows and columns:', df.shape)"
      ]
    },
    {
      "cell_type": "code",
      "execution_count": null,
      "metadata": {
        "colab": {
          "base_uri": "https://localhost:8080/"
        },
        "id": "vfD_c-zZOI3j",
        "outputId": "1b8a0799-1dc5-4c6e-fdaf-fe0126fde4f1"
      },
      "outputs": [
        {
          "output_type": "stream",
          "name": "stdout",
          "text": [
            "   EmployeeID  Age Attrition     BusinessTravel  DailyRate  Department  \\\n",
            "0     1313919   41        No      Travel_Rarely       1102  Cardiology   \n",
            "1     1200302   49        No  Travel_Frequently        279   Maternity   \n",
            "2     1060315   37       Yes      Travel_Rarely       1373   Maternity   \n",
            "3     1272912   33        No  Travel_Frequently       1392   Maternity   \n",
            "4     1414939   27        No      Travel_Rarely        591   Maternity   \n",
            "\n",
            "   DistanceFromHome  Education EducationField  EmployeeCount  ...  \\\n",
            "0                 1          2  Life Sciences              1  ...   \n",
            "1                 8          1  Life Sciences              1  ...   \n",
            "2                 2          2          Other              1  ...   \n",
            "3                 3          4  Life Sciences              1  ...   \n",
            "4                 2          1        Medical              1  ...   \n",
            "\n",
            "   RelationshipSatisfaction StandardHours  Shift  TotalWorkingYears  \\\n",
            "0                         1            80      0                  8   \n",
            "1                         4            80      1                 10   \n",
            "2                         2            80      0                  7   \n",
            "3                         3            80      0                  8   \n",
            "4                         4            80      1                  6   \n",
            "\n",
            "   TrainingTimesLastYear WorkLifeBalance  YearsAtCompany YearsInCurrentRole  \\\n",
            "0                      0               1               6                  4   \n",
            "1                      3               3              10                  7   \n",
            "2                      3               3               0                  0   \n",
            "3                      3               3               8                  7   \n",
            "4                      3               3               2                  2   \n",
            "\n",
            "   YearsSinceLastPromotion  YearsWithCurrManager  \n",
            "0                        0                     5  \n",
            "1                        1                     7  \n",
            "2                        0                     0  \n",
            "3                        3                     0  \n",
            "4                        2                     2  \n",
            "\n",
            "[5 rows x 35 columns]\n"
          ]
        }
      ],
      "source": [
        "# Import necessary packages\n",
        "import pandas as pd\n",
        "\n",
        "# Print off the first 5 rows\n",
        "print(df.head(5))"
      ]
    },
    {
      "cell_type": "code",
      "execution_count": null,
      "metadata": {
        "colab": {
          "base_uri": "https://localhost:8080/"
        },
        "id": "j5DphqfwN7JT",
        "outputId": "fe8970da-58fa-4f85-d859-5fecd574a604"
      },
      "outputs": [
        {
          "output_type": "stream",
          "name": "stdout",
          "text": [
            "Feature Information:\n",
            "<class 'pandas.core.frame.DataFrame'>\n",
            "RangeIndex: 1676 entries, 0 to 1675\n",
            "Data columns (total 35 columns):\n",
            " #   Column                    Non-Null Count  Dtype \n",
            "---  ------                    --------------  ----- \n",
            " 0   EmployeeID                1676 non-null   int64 \n",
            " 1   Age                       1676 non-null   int64 \n",
            " 2   Attrition                 1676 non-null   object\n",
            " 3   BusinessTravel            1676 non-null   object\n",
            " 4   DailyRate                 1676 non-null   int64 \n",
            " 5   Department                1676 non-null   object\n",
            " 6   DistanceFromHome          1676 non-null   int64 \n",
            " 7   Education                 1676 non-null   int64 \n",
            " 8   EducationField            1676 non-null   object\n",
            " 9   EmployeeCount             1676 non-null   int64 \n",
            " 10  EnvironmentSatisfaction   1676 non-null   int64 \n",
            " 11  Gender                    1676 non-null   object\n",
            " 12  HourlyRate                1676 non-null   int64 \n",
            " 13  JobInvolvement            1676 non-null   int64 \n",
            " 14  JobLevel                  1676 non-null   int64 \n",
            " 15  JobRole                   1676 non-null   object\n",
            " 16  JobSatisfaction           1676 non-null   int64 \n",
            " 17  MaritalStatus             1676 non-null   object\n",
            " 18  MonthlyIncome             1676 non-null   int64 \n",
            " 19  MonthlyRate               1676 non-null   int64 \n",
            " 20  NumCompaniesWorked        1676 non-null   int64 \n",
            " 21  Over18                    1676 non-null   object\n",
            " 22  OverTime                  1676 non-null   object\n",
            " 23  PercentSalaryHike         1676 non-null   int64 \n",
            " 24  PerformanceRating         1676 non-null   int64 \n",
            " 25  RelationshipSatisfaction  1676 non-null   int64 \n",
            " 26  StandardHours             1676 non-null   int64 \n",
            " 27  Shift                     1676 non-null   int64 \n",
            " 28  TotalWorkingYears         1676 non-null   int64 \n",
            " 29  TrainingTimesLastYear     1676 non-null   int64 \n",
            " 30  WorkLifeBalance           1676 non-null   int64 \n",
            " 31  YearsAtCompany            1676 non-null   int64 \n",
            " 32  YearsInCurrentRole        1676 non-null   int64 \n",
            " 33  YearsSinceLastPromotion   1676 non-null   int64 \n",
            " 34  YearsWithCurrManager      1676 non-null   int64 \n",
            "dtypes: int64(26), object(9)\n",
            "memory usage: 458.4+ KB\n",
            "None\n"
          ]
        }
      ],
      "source": [
        "# Import necessary packages\n",
        "import pandas as pd\n",
        "\n",
        "# Lets get more basic information on columns, datatypes etc using .info()\n",
        "print('Feature Information:')\n",
        "print(df.info())"
      ]
    },
    {
      "cell_type": "markdown",
      "source": [
        "# Stage 3: Data Preparation"
      ],
      "metadata": {
        "id": "CJjbH_yIuPfR"
      }
    },
    {
      "cell_type": "markdown",
      "source": [
        "## Data Wrangling"
      ],
      "metadata": {
        "id": "_DwjAvi6uWHt"
      }
    },
    {
      "cell_type": "markdown",
      "source": [
        "### Drop unnecessary columns"
      ],
      "metadata": {
        "id": "GSUAHFmYua60"
      }
    },
    {
      "cell_type": "code",
      "execution_count": null,
      "metadata": {
        "id": "9b86a5e5"
      },
      "outputs": [],
      "source": [
        "# Columns to drop\n",
        "columns_to_drop = ['EmployeeID',\n",
        "                   'StandardHours',\n",
        "                   'Over18',\n",
        "                   'MonthlyRate',\n",
        "                   'EmployeeCount']\n",
        "\n",
        "# Drop those Columns like they're hot\n",
        "df = df.drop(columns = columns_to_drop)"
      ]
    },
    {
      "cell_type": "markdown",
      "source": [
        "### Missing Values"
      ],
      "metadata": {
        "id": "1SoX65gjulTE"
      }
    },
    {
      "cell_type": "code",
      "source": [
        "# Deal with NA values\n",
        "## Identify Variable with NaN values\n",
        "def find_columns_with_nan(df):\n",
        "    columns_with_nan = [col for col in df.columns if df[col].isna().any()]\n",
        "    return columns_with_nan\n",
        "\n",
        "### Identify Variable with NaN values\n",
        "columns_with_nan = find_columns_with_nan(df)\n",
        "\n",
        "if columns_with_nan:\n",
        "    print(\"Columns with NaN values:\", columns_with_nan)\n",
        "else:\n",
        "    print(\"There are no NaN values in the dataset.\")"
      ],
      "metadata": {
        "id": "sUhlBb1EtxYG",
        "outputId": "e2c7c1cd-5320-4a58-f778-8c7871830340",
        "colab": {
          "base_uri": "https://localhost:8080/"
        }
      },
      "execution_count": null,
      "outputs": [
        {
          "output_type": "stream",
          "name": "stdout",
          "text": [
            "Columns with NaN values: []\n"
          ]
        }
      ]
    },
    {
      "cell_type": "code",
      "execution_count": null,
      "metadata": {
        "id": "c36070a9"
      },
      "outputs": [],
      "source": [
        "# Impute values for NA with numbers\n",
        "## Columns to impute\n",
        "columns_to_impute = []\n",
        "\n",
        "## make a function\n",
        "def impute_selected_columns(df, columns_to_impute):\n",
        "    # Use SimpleImputer with strategy='mean'\n",
        "    imputer = SimpleImputer(strategy='mean')\n",
        "\n",
        "    # Select columns to impute\n",
        "    df_to_impute = df[columns_to_impute]\n",
        "\n",
        "    # Impute NaN values in selected columns\n",
        "    df_imputed = pd.DataFrame(imputer.fit_transform(df_to_impute),\n",
        "                              columns = columns_to_impute)\n",
        "\n",
        "    # Update original DataFrame with imputed values\n",
        "    df[columns_to_impute] = df_imputed\n",
        "\n",
        "    # return the data frame\n",
        "    return df\n",
        "\n",
        "## Impute missing values for selected columns\n",
        "df = impute_selected_columns(df,\n",
        "                             columns_to_impute)"
      ]
    },
    {
      "cell_type": "markdown",
      "source": [
        "### Check data for matching data types"
      ],
      "metadata": {
        "id": "MYNGs7SGvXyQ"
      }
    },
    {
      "cell_type": "markdown",
      "source": [
        "## Data Transformation"
      ],
      "metadata": {
        "id": "Z5djbKffvnKW"
      }
    },
    {
      "cell_type": "markdown",
      "source": [
        "### One Hot Encoding"
      ],
      "metadata": {
        "id": "WbyvwJjKvurT"
      }
    },
    {
      "cell_type": "code",
      "source": [
        "# Identify categorical variables\n",
        "categorical_columns = df.select_dtypes(include=['object', 'category']).columns\n",
        "print(categorical_columns)\n"
      ],
      "metadata": {
        "id": "JADd4uG3xXgt",
        "outputId": "250f7be8-4f00-4763-c96c-f814bf6bb168",
        "colab": {
          "base_uri": "https://localhost:8080/"
        }
      },
      "execution_count": null,
      "outputs": [
        {
          "output_type": "stream",
          "name": "stdout",
          "text": [
            "Index(['Attrition', 'BusinessTravel', 'Department', 'EducationField', 'Gender',\n",
            "       'JobRole', 'MaritalStatus', 'OverTime'],\n",
            "      dtype='object')\n"
          ]
        }
      ]
    },
    {
      "cell_type": "code",
      "execution_count": null,
      "metadata": {
        "id": "53d5f7c6"
      },
      "outputs": [],
      "source": [
        "## One-hot encoding\n",
        "### List of variables to encode\n",
        "variables_to_encode = ['BusinessTravel',\n",
        "                       'Department',\n",
        "                       'EducationField',\n",
        "                       'Gender',\n",
        "                       'JobRole',\n",
        "                       'MaritalStatus',\n",
        "                       'OverTime']\n",
        "\n",
        "### Perform one-hot encoding for the variables in variables_to_encode\n",
        "df_hot = pd.get_dummies(df, columns=variables_to_encode)"
      ]
    },
    {
      "cell_type": "code",
      "source": [
        "df_hot.dtypes"
      ],
      "metadata": {
        "collapsed": true,
        "id": "0j3ZQQN9yjKv",
        "outputId": "e1ae6e3d-abf2-412d-f3e1-5d5bb77ad6ab",
        "colab": {
          "base_uri": "https://localhost:8080/",
          "height": 1000
        }
      },
      "execution_count": null,
      "outputs": [
        {
          "output_type": "execute_result",
          "data": {
            "text/plain": [
              "Age                                  int64\n",
              "Attrition                           object\n",
              "DailyRate                            int64\n",
              "DistanceFromHome                     int64\n",
              "Education                            int64\n",
              "EnvironmentSatisfaction              int64\n",
              "HourlyRate                           int64\n",
              "JobInvolvement                       int64\n",
              "JobLevel                             int64\n",
              "JobSatisfaction                      int64\n",
              "MonthlyIncome                        int64\n",
              "NumCompaniesWorked                   int64\n",
              "PercentSalaryHike                    int64\n",
              "PerformanceRating                    int64\n",
              "RelationshipSatisfaction             int64\n",
              "Shift                                int64\n",
              "TotalWorkingYears                    int64\n",
              "TrainingTimesLastYear                int64\n",
              "WorkLifeBalance                      int64\n",
              "YearsAtCompany                       int64\n",
              "YearsInCurrentRole                   int64\n",
              "YearsSinceLastPromotion              int64\n",
              "YearsWithCurrManager                 int64\n",
              "BusinessTravel_Non-Travel             bool\n",
              "BusinessTravel_Travel_Frequently      bool\n",
              "BusinessTravel_Travel_Rarely          bool\n",
              "Department_Cardiology                 bool\n",
              "Department_Maternity                  bool\n",
              "Department_Neurology                  bool\n",
              "EducationField_Human Resources        bool\n",
              "EducationField_Life Sciences          bool\n",
              "EducationField_Marketing              bool\n",
              "EducationField_Medical                bool\n",
              "EducationField_Other                  bool\n",
              "EducationField_Technical Degree       bool\n",
              "Gender_Female                         bool\n",
              "Gender_Male                           bool\n",
              "JobRole_Admin                         bool\n",
              "JobRole_Administrative                bool\n",
              "JobRole_Nurse                         bool\n",
              "JobRole_Other                         bool\n",
              "JobRole_Therapist                     bool\n",
              "MaritalStatus_Divorced                bool\n",
              "MaritalStatus_Married                 bool\n",
              "MaritalStatus_Single                  bool\n",
              "OverTime_No                           bool\n",
              "OverTime_Yes                          bool\n",
              "dtype: object"
            ],
            "text/html": [
              "<div>\n",
              "<style scoped>\n",
              "    .dataframe tbody tr th:only-of-type {\n",
              "        vertical-align: middle;\n",
              "    }\n",
              "\n",
              "    .dataframe tbody tr th {\n",
              "        vertical-align: top;\n",
              "    }\n",
              "\n",
              "    .dataframe thead th {\n",
              "        text-align: right;\n",
              "    }\n",
              "</style>\n",
              "<table border=\"1\" class=\"dataframe\">\n",
              "  <thead>\n",
              "    <tr style=\"text-align: right;\">\n",
              "      <th></th>\n",
              "      <th>0</th>\n",
              "    </tr>\n",
              "  </thead>\n",
              "  <tbody>\n",
              "    <tr>\n",
              "      <th>Age</th>\n",
              "      <td>int64</td>\n",
              "    </tr>\n",
              "    <tr>\n",
              "      <th>Attrition</th>\n",
              "      <td>object</td>\n",
              "    </tr>\n",
              "    <tr>\n",
              "      <th>DailyRate</th>\n",
              "      <td>int64</td>\n",
              "    </tr>\n",
              "    <tr>\n",
              "      <th>DistanceFromHome</th>\n",
              "      <td>int64</td>\n",
              "    </tr>\n",
              "    <tr>\n",
              "      <th>Education</th>\n",
              "      <td>int64</td>\n",
              "    </tr>\n",
              "    <tr>\n",
              "      <th>EnvironmentSatisfaction</th>\n",
              "      <td>int64</td>\n",
              "    </tr>\n",
              "    <tr>\n",
              "      <th>HourlyRate</th>\n",
              "      <td>int64</td>\n",
              "    </tr>\n",
              "    <tr>\n",
              "      <th>JobInvolvement</th>\n",
              "      <td>int64</td>\n",
              "    </tr>\n",
              "    <tr>\n",
              "      <th>JobLevel</th>\n",
              "      <td>int64</td>\n",
              "    </tr>\n",
              "    <tr>\n",
              "      <th>JobSatisfaction</th>\n",
              "      <td>int64</td>\n",
              "    </tr>\n",
              "    <tr>\n",
              "      <th>MonthlyIncome</th>\n",
              "      <td>int64</td>\n",
              "    </tr>\n",
              "    <tr>\n",
              "      <th>NumCompaniesWorked</th>\n",
              "      <td>int64</td>\n",
              "    </tr>\n",
              "    <tr>\n",
              "      <th>PercentSalaryHike</th>\n",
              "      <td>int64</td>\n",
              "    </tr>\n",
              "    <tr>\n",
              "      <th>PerformanceRating</th>\n",
              "      <td>int64</td>\n",
              "    </tr>\n",
              "    <tr>\n",
              "      <th>RelationshipSatisfaction</th>\n",
              "      <td>int64</td>\n",
              "    </tr>\n",
              "    <tr>\n",
              "      <th>Shift</th>\n",
              "      <td>int64</td>\n",
              "    </tr>\n",
              "    <tr>\n",
              "      <th>TotalWorkingYears</th>\n",
              "      <td>int64</td>\n",
              "    </tr>\n",
              "    <tr>\n",
              "      <th>TrainingTimesLastYear</th>\n",
              "      <td>int64</td>\n",
              "    </tr>\n",
              "    <tr>\n",
              "      <th>WorkLifeBalance</th>\n",
              "      <td>int64</td>\n",
              "    </tr>\n",
              "    <tr>\n",
              "      <th>YearsAtCompany</th>\n",
              "      <td>int64</td>\n",
              "    </tr>\n",
              "    <tr>\n",
              "      <th>YearsInCurrentRole</th>\n",
              "      <td>int64</td>\n",
              "    </tr>\n",
              "    <tr>\n",
              "      <th>YearsSinceLastPromotion</th>\n",
              "      <td>int64</td>\n",
              "    </tr>\n",
              "    <tr>\n",
              "      <th>YearsWithCurrManager</th>\n",
              "      <td>int64</td>\n",
              "    </tr>\n",
              "    <tr>\n",
              "      <th>BusinessTravel_Non-Travel</th>\n",
              "      <td>bool</td>\n",
              "    </tr>\n",
              "    <tr>\n",
              "      <th>BusinessTravel_Travel_Frequently</th>\n",
              "      <td>bool</td>\n",
              "    </tr>\n",
              "    <tr>\n",
              "      <th>BusinessTravel_Travel_Rarely</th>\n",
              "      <td>bool</td>\n",
              "    </tr>\n",
              "    <tr>\n",
              "      <th>Department_Cardiology</th>\n",
              "      <td>bool</td>\n",
              "    </tr>\n",
              "    <tr>\n",
              "      <th>Department_Maternity</th>\n",
              "      <td>bool</td>\n",
              "    </tr>\n",
              "    <tr>\n",
              "      <th>Department_Neurology</th>\n",
              "      <td>bool</td>\n",
              "    </tr>\n",
              "    <tr>\n",
              "      <th>EducationField_Human Resources</th>\n",
              "      <td>bool</td>\n",
              "    </tr>\n",
              "    <tr>\n",
              "      <th>EducationField_Life Sciences</th>\n",
              "      <td>bool</td>\n",
              "    </tr>\n",
              "    <tr>\n",
              "      <th>EducationField_Marketing</th>\n",
              "      <td>bool</td>\n",
              "    </tr>\n",
              "    <tr>\n",
              "      <th>EducationField_Medical</th>\n",
              "      <td>bool</td>\n",
              "    </tr>\n",
              "    <tr>\n",
              "      <th>EducationField_Other</th>\n",
              "      <td>bool</td>\n",
              "    </tr>\n",
              "    <tr>\n",
              "      <th>EducationField_Technical Degree</th>\n",
              "      <td>bool</td>\n",
              "    </tr>\n",
              "    <tr>\n",
              "      <th>Gender_Female</th>\n",
              "      <td>bool</td>\n",
              "    </tr>\n",
              "    <tr>\n",
              "      <th>Gender_Male</th>\n",
              "      <td>bool</td>\n",
              "    </tr>\n",
              "    <tr>\n",
              "      <th>JobRole_Admin</th>\n",
              "      <td>bool</td>\n",
              "    </tr>\n",
              "    <tr>\n",
              "      <th>JobRole_Administrative</th>\n",
              "      <td>bool</td>\n",
              "    </tr>\n",
              "    <tr>\n",
              "      <th>JobRole_Nurse</th>\n",
              "      <td>bool</td>\n",
              "    </tr>\n",
              "    <tr>\n",
              "      <th>JobRole_Other</th>\n",
              "      <td>bool</td>\n",
              "    </tr>\n",
              "    <tr>\n",
              "      <th>JobRole_Therapist</th>\n",
              "      <td>bool</td>\n",
              "    </tr>\n",
              "    <tr>\n",
              "      <th>MaritalStatus_Divorced</th>\n",
              "      <td>bool</td>\n",
              "    </tr>\n",
              "    <tr>\n",
              "      <th>MaritalStatus_Married</th>\n",
              "      <td>bool</td>\n",
              "    </tr>\n",
              "    <tr>\n",
              "      <th>MaritalStatus_Single</th>\n",
              "      <td>bool</td>\n",
              "    </tr>\n",
              "    <tr>\n",
              "      <th>OverTime_No</th>\n",
              "      <td>bool</td>\n",
              "    </tr>\n",
              "    <tr>\n",
              "      <th>OverTime_Yes</th>\n",
              "      <td>bool</td>\n",
              "    </tr>\n",
              "  </tbody>\n",
              "</table>\n",
              "</div><br><label><b>dtype:</b> object</label>"
            ]
          },
          "metadata": {},
          "execution_count": 17
        }
      ]
    },
    {
      "cell_type": "markdown",
      "source": [
        "# Stage 4: Modeling"
      ],
      "metadata": {
        "id": "tDgjvKLLzZ3_"
      }
    },
    {
      "cell_type": "markdown",
      "source": [
        "## Define Variable"
      ],
      "metadata": {
        "id": "ShIOa05lzwwN"
      }
    },
    {
      "cell_type": "code",
      "execution_count": null,
      "metadata": {
        "id": "ff7d463b"
      },
      "outputs": [],
      "source": [
        "## Define Variables\n",
        "TargetVariable = 'Attrition'\n",
        "\n",
        "X = df_hot.drop(columns = TargetVariable)\n",
        "y = df_hot[TargetVariable]"
      ]
    },
    {
      "cell_type": "markdown",
      "source": [
        "## Train Test Split"
      ],
      "metadata": {
        "id": "iLKwl5t0zzx4"
      }
    },
    {
      "cell_type": "code",
      "execution_count": null,
      "metadata": {
        "id": "73a3d30d"
      },
      "outputs": [],
      "source": [
        "## split the preprocessed data into training and validation\n",
        "train_X, valid_X, train_y, valid_y = train_test_split(X,\n",
        "                                                      y,\n",
        "                                                      test_size = 0.3,\n",
        "                                                      train_size = 0.7,\n",
        "                                                      random_state = 373\n",
        "                                                     )"
      ]
    },
    {
      "cell_type": "markdown",
      "source": [
        "## Create a Decision Tree Classifier Model"
      ],
      "metadata": {
        "id": "x6ynRA-sz_Fg"
      }
    },
    {
      "cell_type": "code",
      "execution_count": null,
      "metadata": {
        "id": "36bbbefa"
      },
      "outputs": [],
      "source": [
        "# Create a tree model with defaults\n",
        "clf = DecisionTreeClassifier(criterion=\"gini\",\n",
        "                               #splitter=\"best\",\n",
        "                               max_depth=None,\n",
        "                               min_samples_split=2,\n",
        "                               #min_samples_leaf=1,\n",
        "                               #min_weight_fraction_leaf=0.0,\n",
        "                               #max_features=None,\n",
        "                               random_state=373,\n",
        "                               #max_leaf_nodes=None,\n",
        "                               min_impurity_decrease=0.0,\n",
        "                               #class_weight=None,\n",
        "                               #ccp_alpha=0.0\n",
        "                            )"
      ]
    },
    {
      "cell_type": "markdown",
      "source": [
        "## Fit the Model"
      ],
      "metadata": {
        "id": "xCjAZTHo2BUR"
      }
    },
    {
      "cell_type": "code",
      "execution_count": 21,
      "metadata": {
        "id": "9ba1a565",
        "outputId": "60685dae-97d2-408e-8f20-2d2a45425b58",
        "colab": {
          "base_uri": "https://localhost:8080/",
          "height": 80
        }
      },
      "outputs": [
        {
          "output_type": "execute_result",
          "data": {
            "text/plain": [
              "DecisionTreeClassifier(random_state=373)"
            ],
            "text/html": [
              "<style>#sk-container-id-1 {\n",
              "  /* Definition of color scheme common for light and dark mode */\n",
              "  --sklearn-color-text: #000;\n",
              "  --sklearn-color-text-muted: #666;\n",
              "  --sklearn-color-line: gray;\n",
              "  /* Definition of color scheme for unfitted estimators */\n",
              "  --sklearn-color-unfitted-level-0: #fff5e6;\n",
              "  --sklearn-color-unfitted-level-1: #f6e4d2;\n",
              "  --sklearn-color-unfitted-level-2: #ffe0b3;\n",
              "  --sklearn-color-unfitted-level-3: chocolate;\n",
              "  /* Definition of color scheme for fitted estimators */\n",
              "  --sklearn-color-fitted-level-0: #f0f8ff;\n",
              "  --sklearn-color-fitted-level-1: #d4ebff;\n",
              "  --sklearn-color-fitted-level-2: #b3dbfd;\n",
              "  --sklearn-color-fitted-level-3: cornflowerblue;\n",
              "\n",
              "  /* Specific color for light theme */\n",
              "  --sklearn-color-text-on-default-background: var(--sg-text-color, var(--theme-code-foreground, var(--jp-content-font-color1, black)));\n",
              "  --sklearn-color-background: var(--sg-background-color, var(--theme-background, var(--jp-layout-color0, white)));\n",
              "  --sklearn-color-border-box: var(--sg-text-color, var(--theme-code-foreground, var(--jp-content-font-color1, black)));\n",
              "  --sklearn-color-icon: #696969;\n",
              "\n",
              "  @media (prefers-color-scheme: dark) {\n",
              "    /* Redefinition of color scheme for dark theme */\n",
              "    --sklearn-color-text-on-default-background: var(--sg-text-color, var(--theme-code-foreground, var(--jp-content-font-color1, white)));\n",
              "    --sklearn-color-background: var(--sg-background-color, var(--theme-background, var(--jp-layout-color0, #111)));\n",
              "    --sklearn-color-border-box: var(--sg-text-color, var(--theme-code-foreground, var(--jp-content-font-color1, white)));\n",
              "    --sklearn-color-icon: #878787;\n",
              "  }\n",
              "}\n",
              "\n",
              "#sk-container-id-1 {\n",
              "  color: var(--sklearn-color-text);\n",
              "}\n",
              "\n",
              "#sk-container-id-1 pre {\n",
              "  padding: 0;\n",
              "}\n",
              "\n",
              "#sk-container-id-1 input.sk-hidden--visually {\n",
              "  border: 0;\n",
              "  clip: rect(1px 1px 1px 1px);\n",
              "  clip: rect(1px, 1px, 1px, 1px);\n",
              "  height: 1px;\n",
              "  margin: -1px;\n",
              "  overflow: hidden;\n",
              "  padding: 0;\n",
              "  position: absolute;\n",
              "  width: 1px;\n",
              "}\n",
              "\n",
              "#sk-container-id-1 div.sk-dashed-wrapped {\n",
              "  border: 1px dashed var(--sklearn-color-line);\n",
              "  margin: 0 0.4em 0.5em 0.4em;\n",
              "  box-sizing: border-box;\n",
              "  padding-bottom: 0.4em;\n",
              "  background-color: var(--sklearn-color-background);\n",
              "}\n",
              "\n",
              "#sk-container-id-1 div.sk-container {\n",
              "  /* jupyter's `normalize.less` sets `[hidden] { display: none; }`\n",
              "     but bootstrap.min.css set `[hidden] { display: none !important; }`\n",
              "     so we also need the `!important` here to be able to override the\n",
              "     default hidden behavior on the sphinx rendered scikit-learn.org.\n",
              "     See: https://github.com/scikit-learn/scikit-learn/issues/21755 */\n",
              "  display: inline-block !important;\n",
              "  position: relative;\n",
              "}\n",
              "\n",
              "#sk-container-id-1 div.sk-text-repr-fallback {\n",
              "  display: none;\n",
              "}\n",
              "\n",
              "div.sk-parallel-item,\n",
              "div.sk-serial,\n",
              "div.sk-item {\n",
              "  /* draw centered vertical line to link estimators */\n",
              "  background-image: linear-gradient(var(--sklearn-color-text-on-default-background), var(--sklearn-color-text-on-default-background));\n",
              "  background-size: 2px 100%;\n",
              "  background-repeat: no-repeat;\n",
              "  background-position: center center;\n",
              "}\n",
              "\n",
              "/* Parallel-specific style estimator block */\n",
              "\n",
              "#sk-container-id-1 div.sk-parallel-item::after {\n",
              "  content: \"\";\n",
              "  width: 100%;\n",
              "  border-bottom: 2px solid var(--sklearn-color-text-on-default-background);\n",
              "  flex-grow: 1;\n",
              "}\n",
              "\n",
              "#sk-container-id-1 div.sk-parallel {\n",
              "  display: flex;\n",
              "  align-items: stretch;\n",
              "  justify-content: center;\n",
              "  background-color: var(--sklearn-color-background);\n",
              "  position: relative;\n",
              "}\n",
              "\n",
              "#sk-container-id-1 div.sk-parallel-item {\n",
              "  display: flex;\n",
              "  flex-direction: column;\n",
              "}\n",
              "\n",
              "#sk-container-id-1 div.sk-parallel-item:first-child::after {\n",
              "  align-self: flex-end;\n",
              "  width: 50%;\n",
              "}\n",
              "\n",
              "#sk-container-id-1 div.sk-parallel-item:last-child::after {\n",
              "  align-self: flex-start;\n",
              "  width: 50%;\n",
              "}\n",
              "\n",
              "#sk-container-id-1 div.sk-parallel-item:only-child::after {\n",
              "  width: 0;\n",
              "}\n",
              "\n",
              "/* Serial-specific style estimator block */\n",
              "\n",
              "#sk-container-id-1 div.sk-serial {\n",
              "  display: flex;\n",
              "  flex-direction: column;\n",
              "  align-items: center;\n",
              "  background-color: var(--sklearn-color-background);\n",
              "  padding-right: 1em;\n",
              "  padding-left: 1em;\n",
              "}\n",
              "\n",
              "\n",
              "/* Toggleable style: style used for estimator/Pipeline/ColumnTransformer box that is\n",
              "clickable and can be expanded/collapsed.\n",
              "- Pipeline and ColumnTransformer use this feature and define the default style\n",
              "- Estimators will overwrite some part of the style using the `sk-estimator` class\n",
              "*/\n",
              "\n",
              "/* Pipeline and ColumnTransformer style (default) */\n",
              "\n",
              "#sk-container-id-1 div.sk-toggleable {\n",
              "  /* Default theme specific background. It is overwritten whether we have a\n",
              "  specific estimator or a Pipeline/ColumnTransformer */\n",
              "  background-color: var(--sklearn-color-background);\n",
              "}\n",
              "\n",
              "/* Toggleable label */\n",
              "#sk-container-id-1 label.sk-toggleable__label {\n",
              "  cursor: pointer;\n",
              "  display: flex;\n",
              "  width: 100%;\n",
              "  margin-bottom: 0;\n",
              "  padding: 0.5em;\n",
              "  box-sizing: border-box;\n",
              "  text-align: center;\n",
              "  align-items: start;\n",
              "  justify-content: space-between;\n",
              "  gap: 0.5em;\n",
              "}\n",
              "\n",
              "#sk-container-id-1 label.sk-toggleable__label .caption {\n",
              "  font-size: 0.6rem;\n",
              "  font-weight: lighter;\n",
              "  color: var(--sklearn-color-text-muted);\n",
              "}\n",
              "\n",
              "#sk-container-id-1 label.sk-toggleable__label-arrow:before {\n",
              "  /* Arrow on the left of the label */\n",
              "  content: \"▸\";\n",
              "  float: left;\n",
              "  margin-right: 0.25em;\n",
              "  color: var(--sklearn-color-icon);\n",
              "}\n",
              "\n",
              "#sk-container-id-1 label.sk-toggleable__label-arrow:hover:before {\n",
              "  color: var(--sklearn-color-text);\n",
              "}\n",
              "\n",
              "/* Toggleable content - dropdown */\n",
              "\n",
              "#sk-container-id-1 div.sk-toggleable__content {\n",
              "  max-height: 0;\n",
              "  max-width: 0;\n",
              "  overflow: hidden;\n",
              "  text-align: left;\n",
              "  /* unfitted */\n",
              "  background-color: var(--sklearn-color-unfitted-level-0);\n",
              "}\n",
              "\n",
              "#sk-container-id-1 div.sk-toggleable__content.fitted {\n",
              "  /* fitted */\n",
              "  background-color: var(--sklearn-color-fitted-level-0);\n",
              "}\n",
              "\n",
              "#sk-container-id-1 div.sk-toggleable__content pre {\n",
              "  margin: 0.2em;\n",
              "  border-radius: 0.25em;\n",
              "  color: var(--sklearn-color-text);\n",
              "  /* unfitted */\n",
              "  background-color: var(--sklearn-color-unfitted-level-0);\n",
              "}\n",
              "\n",
              "#sk-container-id-1 div.sk-toggleable__content.fitted pre {\n",
              "  /* unfitted */\n",
              "  background-color: var(--sklearn-color-fitted-level-0);\n",
              "}\n",
              "\n",
              "#sk-container-id-1 input.sk-toggleable__control:checked~div.sk-toggleable__content {\n",
              "  /* Expand drop-down */\n",
              "  max-height: 200px;\n",
              "  max-width: 100%;\n",
              "  overflow: auto;\n",
              "}\n",
              "\n",
              "#sk-container-id-1 input.sk-toggleable__control:checked~label.sk-toggleable__label-arrow:before {\n",
              "  content: \"▾\";\n",
              "}\n",
              "\n",
              "/* Pipeline/ColumnTransformer-specific style */\n",
              "\n",
              "#sk-container-id-1 div.sk-label input.sk-toggleable__control:checked~label.sk-toggleable__label {\n",
              "  color: var(--sklearn-color-text);\n",
              "  background-color: var(--sklearn-color-unfitted-level-2);\n",
              "}\n",
              "\n",
              "#sk-container-id-1 div.sk-label.fitted input.sk-toggleable__control:checked~label.sk-toggleable__label {\n",
              "  background-color: var(--sklearn-color-fitted-level-2);\n",
              "}\n",
              "\n",
              "/* Estimator-specific style */\n",
              "\n",
              "/* Colorize estimator box */\n",
              "#sk-container-id-1 div.sk-estimator input.sk-toggleable__control:checked~label.sk-toggleable__label {\n",
              "  /* unfitted */\n",
              "  background-color: var(--sklearn-color-unfitted-level-2);\n",
              "}\n",
              "\n",
              "#sk-container-id-1 div.sk-estimator.fitted input.sk-toggleable__control:checked~label.sk-toggleable__label {\n",
              "  /* fitted */\n",
              "  background-color: var(--sklearn-color-fitted-level-2);\n",
              "}\n",
              "\n",
              "#sk-container-id-1 div.sk-label label.sk-toggleable__label,\n",
              "#sk-container-id-1 div.sk-label label {\n",
              "  /* The background is the default theme color */\n",
              "  color: var(--sklearn-color-text-on-default-background);\n",
              "}\n",
              "\n",
              "/* On hover, darken the color of the background */\n",
              "#sk-container-id-1 div.sk-label:hover label.sk-toggleable__label {\n",
              "  color: var(--sklearn-color-text);\n",
              "  background-color: var(--sklearn-color-unfitted-level-2);\n",
              "}\n",
              "\n",
              "/* Label box, darken color on hover, fitted */\n",
              "#sk-container-id-1 div.sk-label.fitted:hover label.sk-toggleable__label.fitted {\n",
              "  color: var(--sklearn-color-text);\n",
              "  background-color: var(--sklearn-color-fitted-level-2);\n",
              "}\n",
              "\n",
              "/* Estimator label */\n",
              "\n",
              "#sk-container-id-1 div.sk-label label {\n",
              "  font-family: monospace;\n",
              "  font-weight: bold;\n",
              "  display: inline-block;\n",
              "  line-height: 1.2em;\n",
              "}\n",
              "\n",
              "#sk-container-id-1 div.sk-label-container {\n",
              "  text-align: center;\n",
              "}\n",
              "\n",
              "/* Estimator-specific */\n",
              "#sk-container-id-1 div.sk-estimator {\n",
              "  font-family: monospace;\n",
              "  border: 1px dotted var(--sklearn-color-border-box);\n",
              "  border-radius: 0.25em;\n",
              "  box-sizing: border-box;\n",
              "  margin-bottom: 0.5em;\n",
              "  /* unfitted */\n",
              "  background-color: var(--sklearn-color-unfitted-level-0);\n",
              "}\n",
              "\n",
              "#sk-container-id-1 div.sk-estimator.fitted {\n",
              "  /* fitted */\n",
              "  background-color: var(--sklearn-color-fitted-level-0);\n",
              "}\n",
              "\n",
              "/* on hover */\n",
              "#sk-container-id-1 div.sk-estimator:hover {\n",
              "  /* unfitted */\n",
              "  background-color: var(--sklearn-color-unfitted-level-2);\n",
              "}\n",
              "\n",
              "#sk-container-id-1 div.sk-estimator.fitted:hover {\n",
              "  /* fitted */\n",
              "  background-color: var(--sklearn-color-fitted-level-2);\n",
              "}\n",
              "\n",
              "/* Specification for estimator info (e.g. \"i\" and \"?\") */\n",
              "\n",
              "/* Common style for \"i\" and \"?\" */\n",
              "\n",
              ".sk-estimator-doc-link,\n",
              "a:link.sk-estimator-doc-link,\n",
              "a:visited.sk-estimator-doc-link {\n",
              "  float: right;\n",
              "  font-size: smaller;\n",
              "  line-height: 1em;\n",
              "  font-family: monospace;\n",
              "  background-color: var(--sklearn-color-background);\n",
              "  border-radius: 1em;\n",
              "  height: 1em;\n",
              "  width: 1em;\n",
              "  text-decoration: none !important;\n",
              "  margin-left: 0.5em;\n",
              "  text-align: center;\n",
              "  /* unfitted */\n",
              "  border: var(--sklearn-color-unfitted-level-1) 1pt solid;\n",
              "  color: var(--sklearn-color-unfitted-level-1);\n",
              "}\n",
              "\n",
              ".sk-estimator-doc-link.fitted,\n",
              "a:link.sk-estimator-doc-link.fitted,\n",
              "a:visited.sk-estimator-doc-link.fitted {\n",
              "  /* fitted */\n",
              "  border: var(--sklearn-color-fitted-level-1) 1pt solid;\n",
              "  color: var(--sklearn-color-fitted-level-1);\n",
              "}\n",
              "\n",
              "/* On hover */\n",
              "div.sk-estimator:hover .sk-estimator-doc-link:hover,\n",
              ".sk-estimator-doc-link:hover,\n",
              "div.sk-label-container:hover .sk-estimator-doc-link:hover,\n",
              ".sk-estimator-doc-link:hover {\n",
              "  /* unfitted */\n",
              "  background-color: var(--sklearn-color-unfitted-level-3);\n",
              "  color: var(--sklearn-color-background);\n",
              "  text-decoration: none;\n",
              "}\n",
              "\n",
              "div.sk-estimator.fitted:hover .sk-estimator-doc-link.fitted:hover,\n",
              ".sk-estimator-doc-link.fitted:hover,\n",
              "div.sk-label-container:hover .sk-estimator-doc-link.fitted:hover,\n",
              ".sk-estimator-doc-link.fitted:hover {\n",
              "  /* fitted */\n",
              "  background-color: var(--sklearn-color-fitted-level-3);\n",
              "  color: var(--sklearn-color-background);\n",
              "  text-decoration: none;\n",
              "}\n",
              "\n",
              "/* Span, style for the box shown on hovering the info icon */\n",
              ".sk-estimator-doc-link span {\n",
              "  display: none;\n",
              "  z-index: 9999;\n",
              "  position: relative;\n",
              "  font-weight: normal;\n",
              "  right: .2ex;\n",
              "  padding: .5ex;\n",
              "  margin: .5ex;\n",
              "  width: min-content;\n",
              "  min-width: 20ex;\n",
              "  max-width: 50ex;\n",
              "  color: var(--sklearn-color-text);\n",
              "  box-shadow: 2pt 2pt 4pt #999;\n",
              "  /* unfitted */\n",
              "  background: var(--sklearn-color-unfitted-level-0);\n",
              "  border: .5pt solid var(--sklearn-color-unfitted-level-3);\n",
              "}\n",
              "\n",
              ".sk-estimator-doc-link.fitted span {\n",
              "  /* fitted */\n",
              "  background: var(--sklearn-color-fitted-level-0);\n",
              "  border: var(--sklearn-color-fitted-level-3);\n",
              "}\n",
              "\n",
              ".sk-estimator-doc-link:hover span {\n",
              "  display: block;\n",
              "}\n",
              "\n",
              "/* \"?\"-specific style due to the `<a>` HTML tag */\n",
              "\n",
              "#sk-container-id-1 a.estimator_doc_link {\n",
              "  float: right;\n",
              "  font-size: 1rem;\n",
              "  line-height: 1em;\n",
              "  font-family: monospace;\n",
              "  background-color: var(--sklearn-color-background);\n",
              "  border-radius: 1rem;\n",
              "  height: 1rem;\n",
              "  width: 1rem;\n",
              "  text-decoration: none;\n",
              "  /* unfitted */\n",
              "  color: var(--sklearn-color-unfitted-level-1);\n",
              "  border: var(--sklearn-color-unfitted-level-1) 1pt solid;\n",
              "}\n",
              "\n",
              "#sk-container-id-1 a.estimator_doc_link.fitted {\n",
              "  /* fitted */\n",
              "  border: var(--sklearn-color-fitted-level-1) 1pt solid;\n",
              "  color: var(--sklearn-color-fitted-level-1);\n",
              "}\n",
              "\n",
              "/* On hover */\n",
              "#sk-container-id-1 a.estimator_doc_link:hover {\n",
              "  /* unfitted */\n",
              "  background-color: var(--sklearn-color-unfitted-level-3);\n",
              "  color: var(--sklearn-color-background);\n",
              "  text-decoration: none;\n",
              "}\n",
              "\n",
              "#sk-container-id-1 a.estimator_doc_link.fitted:hover {\n",
              "  /* fitted */\n",
              "  background-color: var(--sklearn-color-fitted-level-3);\n",
              "}\n",
              "</style><div id=\"sk-container-id-1\" class=\"sk-top-container\"><div class=\"sk-text-repr-fallback\"><pre>DecisionTreeClassifier(random_state=373)</pre><b>In a Jupyter environment, please rerun this cell to show the HTML representation or trust the notebook. <br />On GitHub, the HTML representation is unable to render, please try loading this page with nbviewer.org.</b></div><div class=\"sk-container\" hidden><div class=\"sk-item\"><div class=\"sk-estimator fitted sk-toggleable\"><input class=\"sk-toggleable__control sk-hidden--visually\" id=\"sk-estimator-id-1\" type=\"checkbox\" checked><label for=\"sk-estimator-id-1\" class=\"sk-toggleable__label fitted sk-toggleable__label-arrow\"><div><div>DecisionTreeClassifier</div></div><div><a class=\"sk-estimator-doc-link fitted\" rel=\"noreferrer\" target=\"_blank\" href=\"https://scikit-learn.org/1.6/modules/generated/sklearn.tree.DecisionTreeClassifier.html\">?<span>Documentation for DecisionTreeClassifier</span></a><span class=\"sk-estimator-doc-link fitted\">i<span>Fitted</span></span></div></label><div class=\"sk-toggleable__content fitted\"><pre>DecisionTreeClassifier(random_state=373)</pre></div> </div></div></div></div>"
            ]
          },
          "metadata": {},
          "execution_count": 21
        }
      ],
      "source": [
        "# Fit (train) the model\n",
        "clf.fit(X = train_X,\n",
        "        y = train_y,\n",
        "        #sample_weight=None,\n",
        "        #check_input=True\n",
        "       )"
      ]
    },
    {
      "cell_type": "markdown",
      "source": [
        "## Evaluate the Model"
      ],
      "metadata": {
        "id": "QABlNYw12imR"
      }
    },
    {
      "cell_type": "markdown",
      "source": [
        "### Cross Validation"
      ],
      "metadata": {
        "id": "zbSCsJ1J24LV"
      }
    },
    {
      "cell_type": "code",
      "execution_count": 22,
      "metadata": {
        "id": "16f0ffb5"
      },
      "outputs": [],
      "source": [
        "# Set some names\n",
        "FeatureNames = list(valid_X.columns)\n",
        "ClassNames = list(clf.classes_)"
      ]
    },
    {
      "cell_type": "code",
      "execution_count": 23,
      "metadata": {
        "id": "2908e6db",
        "outputId": "968215c1-400d-41bd-d3f3-c0c715ec9c0d",
        "colab": {
          "base_uri": "https://localhost:8080/"
        }
      },
      "outputs": [
        {
          "output_type": "stream",
          "name": "stdout",
          "text": [
            "Cross-validation scores on training set: [0.87797619 0.85970149 0.87761194 0.87164179 0.89552239]\n",
            "Mean CV accuracy on training set: 0.8764907604832979\n"
          ]
        }
      ],
      "source": [
        "# Cross-validation on the training set\n",
        "cv_scores = cross_val_score(clf, X, y, cv=5)\n",
        "\n",
        "print(\"Cross-validation scores on training set:\", cv_scores)\n",
        "print(\"Mean CV accuracy on training set:\", cv_scores.mean())\n",
        "# CV accuracy = estimate of how well the model generalizes to new data."
      ]
    },
    {
      "cell_type": "markdown",
      "source": [
        "### Feature Importance"
      ],
      "metadata": {
        "id": "IYB0oteH26wW"
      }
    }
  ]
}