{
  "nbformat": 4,
  "nbformat_minor": 0,
  "metadata": {
    "colab": {
      "provenance": [],
      "toc_visible": true,
      "authorship_tag": "ABX9TyMgcdH7wOOPWAe8rB/T2b9a",
      "include_colab_link": true
    },
    "kernelspec": {
      "name": "python3",
      "display_name": "Python 3"
    },
    "language_info": {
      "name": "python"
    }
  },
  "cells": [
    {
      "cell_type": "markdown",
      "metadata": {
        "id": "view-in-github",
        "colab_type": "text"
      },
      "source": [
        "<a href=\"https://colab.research.google.com/github/Jrk373/MachineLearningDemo/blob/main/HealthcareAttritionModel.ipynb\" target=\"_parent\"><img src=\"https://colab.research.google.com/assets/colab-badge.svg\" alt=\"Open In Colab\"/></a>"
      ]
    },
    {
      "cell_type": "markdown",
      "source": [
        "# Create a Narrow AI using Linear Regression\n",
        "John Ryan Kivela  \n",
        "The Narbha Institute  \n",
        "January 2025\n"
      ],
      "metadata": {
        "id": "gn_VG9XHGtQP"
      }
    },
    {
      "cell_type": "markdown",
      "metadata": {
        "id": "lvL9Lkhg4aON"
      },
      "source": [
        "# Introduction\n",
        "\n",
        "This is walkthrough demonstration of fundemental Machine Learning concepts and techniques used in developing Artificial Intelligence (AI).\n",
        "\n",
        "The activity will create a Narrow Artificial Intelligence, called Rayne 1.0, who will tell us a person's income based on healthcare indicators.\n",
        "\n",
        "Narrow AI, also known as Weak AI, is a type of artificial intelligence designed to perform a specific task or solve a particular problem with high efficiency. Unlike General AI, Narrow AI is limited in scope and cannot adapt to tasks outside its predefined domain.\n",
        "\n",
        "**Meet Rayne!**\n",
        "\n",
        "They deliver Sales Price, with attitude.\n",
        "\n",
        " <img src=\"https://github.com/Jrk373/MachineLearningDemo/blob/main/Kid.jpg?raw=true\" alt=\"Rayne 1.0\" width=\"250\" height=\"400\" />\n",
        "\n",
        "## Intended Audience\n",
        "\n",
        "- The intended audience is a discerning group of professionals with strong data literacy, advanced education in mathematics like Central Limits Theorum (Mean, Median, Mode, Standard Deviation, etc.), and basic Linear Algebra.\n",
        "\n",
        "- It is not necessary to understand computer languages for this activity. This notebook primarily speaks in Python, but it is programmed to run all code and calculations out-of-the-box.\n",
        "\n",
        "## Materials\n",
        "\n",
        "- This notebook is open source. All of these materials will be located in a public Github repository.\n",
        "\n",
        "  https://github.com/Jrk373/MachineLearningDemo\n",
        "\n",
        "- The goal is for the instructor to walk through the Notebook with the audience watching and discussing. Then the instructor and the class go through the notebook together. The learner can then go on to use the Notebook on their own.\n",
        "\n",
        "## CRISP-DM\n",
        "\n",
        "CRISP-DM stands for Cross-Industry Standard Process for Data Mining. It's a popular method used to guide data mining and data science projects. The process is divided into six main phases:\n",
        "\n",
        "- **Business Understanding:** Understand the project's goals and requirements from a business perspective.\n",
        "- **Data Understanding:** Collect and analyze the data to understand its characteristics.\n",
        "- **Data Preparation:** Clean and prepare the data for analysis.\n",
        "- **Modeling:** Apply different modeling techniques to the prepared data.\n",
        "- **Evaluation:** Assess the models to ensure they meet the business objectives.\n",
        "- **Deployment:** Implement the model in the real-world environment and monitor its performance.\n",
        "\n",
        "## Object Oriented Programming\n",
        "\n",
        "## Python\n",
        "\n",
        "## Jupyter Notebooks\n",
        "\n",
        "The notebook relies heavily on foundations from the ODSC West 2024 AI Bootcamp. It is referenced specificfally throughout, but can also be acknoweldged broadly as the inspiration for this notebook. This notebook also partners with AI as a generator of code and content.\n",
        "\n",
        "## Enjoy!"
      ]
    },
    {
      "cell_type": "markdown",
      "metadata": {
        "id": "mCaKvqmJib-x"
      },
      "source": [
        "# Stage 1: Business Understanding\n",
        "\n",
        "\n",
        "\n"
      ]
    },
    {
      "cell_type": "markdown",
      "metadata": {
        "id": "MbaRt27G8_9Y"
      },
      "source": [
        "The Business Understanding phase of CRISP-DM focuses on defining the project’s goals and objectives from a business perspective. This stage ensures that the data science work aligns with the organization’s needs and delivers value."
      ]
    },
    {
      "cell_type": "markdown",
      "metadata": {
        "id": "w91lB5OM8qFs"
      },
      "source": [
        "# Stage 2: Data Understanding"
      ]
    },
    {
      "cell_type": "markdown",
      "metadata": {
        "id": "i0V3ftNXpJW8"
      },
      "source": [
        "The Data Understanding phase of the CRISP-DM (Cross-Industry Standard Process for Data Mining) framework focuses on exploring and analyzing the available data to ensure it is suitable for the project's goals.\n",
        "\n",
        "It involves the following steps:\n",
        "\n",
        "- **Data Collection:** Gather initial data from relevant sources.\n",
        "\n",
        "- **Data Description:** Summarize key attributes, including data types, formats, and basic statistics (e.g., means, counts, ranges).\n",
        "\n",
        "- **Data Exploration:** Use visualizations and analyses to identify patterns, trends, or potential relationships in the data.\n",
        "\n",
        "- **Data Quality Assessment:** Check for issues such as missing values, outliers, inconsistencies, or inaccuracies.\n",
        "The objective is to develop insights into the data, identify challenges, and determine whether it can support the project's objectives effectively."
      ]
    },
    {
      "cell_type": "markdown",
      "source": [
        "## About the Data Set\n",
        "\n",
        "Attrition of nurses in the US Healthcare system is at an all-time high. It is a major area of focus, especially for hospitals.\n",
        "\n",
        "This dataset contains employee and company data useful for supervised ML, unsupervised ML, and analytics. Attrition - whether an employee left or not - is included and can be used as the target variable.\n",
        "\n",
        "The data is synthetic and based on the IBM Watson dataset for attrition. Employee roles and departments were changed to reflect the healthcare domain. Also, known outcomes for some employees were changed to help increase the performance of ML models.\n",
        "\n",
        "https://www.kaggle.com/datasets/jpmiller/employee-attrition-for-healthcare"
      ],
      "metadata": {
        "id": "JvlS95fkdPQu"
      }
    }
  ]
}